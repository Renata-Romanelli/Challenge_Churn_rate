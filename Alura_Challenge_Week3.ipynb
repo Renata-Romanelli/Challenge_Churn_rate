{
  "nbformat": 4,
  "nbformat_minor": 0,
  "metadata": {
    "colab": {
      "name": "Alura_Challenge_Week3.ipynb",
      "provenance": [],
      "collapsed_sections": [],
      "authorship_tag": "ABX9TyMwOydCEyW9ap2/c1WyGb6R",
      "include_colab_link": true
    },
    "kernelspec": {
      "name": "python3",
      "display_name": "Python 3"
    },
    "language_info": {
      "name": "python"
    }
  },
  "cells": [
    {
      "cell_type": "markdown",
      "metadata": {
        "id": "view-in-github",
        "colab_type": "text"
      },
      "source": [
        "<a href=\"https://colab.research.google.com/github/Renata-Romanelli/Challenge_Churn_rate/blob/main/Alura_Challenge_Week3.ipynb\" target=\"_parent\"><img src=\"https://colab.research.google.com/assets/colab-badge.svg\" alt=\"Open In Colab\"/></a>"
      ]
    },
    {
      "cell_type": "markdown",
      "source": [
        "# **Alura Challenge - Data Science** \n",
        "\n",
        "Renata Romanelli 01/06/2022\n",
        "\n",
        "E-mail: reromanelli.c@gmail.com\n",
        "\n",
        "Github: https://github.com/Renata-Romanelli\n",
        "\n",
        "## Week 3\n",
        "\n",
        "Remembering the challenge...\n",
        "\n",
        "You have been hired as a data scientist by the telecom operator Alura Voz. In the initial meeting with those responsible for the company's sales area, the entry of reducing the Customer Evasion Rate, known as Churn Rate, was explained. Basically, the Churn Rate indicates how much the company lost revenue or customers in a period of time.\n",
        "\n",
        "With yours experience, you, as an initial step, identify customers that suggest a greater chance of leaving the company experience. For this, you explain that it is interesting to investigate customer characteristics or some customer plans to try to CLASSIFY these people as candidates to activate a company or not.\n",
        "\n",
        "So you request the dataset to start exploring, treating and modeling from now on. Then, it will be in the optimization of each of the models in order to obtain the best result for Alura Voz's decision making.\n",
        "\n",
        "## Previously done:\n",
        "- Data cleaning and processing\n",
        "- Data exploratory analysis\n",
        "- Data visualization"
      ],
      "metadata": {
        "id": "RsVG-mXlG0WQ"
      }
    },
    {
      "cell_type": "code",
      "source": [
        "# Load clean data\n",
        "\n",
        "import pandas as pd\n",
        "\n",
        "df = pd.read_csv('https://github.com/Renata-Romanelli/Challenge_Data_Science/blob/main/AluraVoz_Client_data_clean%20(1).csv?raw=true')\n",
        "df.head()"
      ],
      "metadata": {
        "colab": {
          "base_uri": "https://localhost:8080/",
          "height": 386
        },
        "id": "hISi-7wxIMX7",
        "outputId": "e40e9a80-437d-41f5-b3a8-ffe705ca9d4f"
      },
      "execution_count": 1,
      "outputs": [
        {
          "output_type": "execute_result",
          "data": {
            "text/plain": [
              "   customerID Churn  gender SeniorCitizen Partner Dependents  tenure  \\\n",
              "0  0002-ORFBO    No  Female            No     Yes        Yes       9   \n",
              "1  0003-MKNFE    No    Male            No      No         No       9   \n",
              "2  0004-TLHLJ   Yes    Male            No      No         No       4   \n",
              "3  0011-IGKFF   Yes    Male           Yes     Yes         No      13   \n",
              "4  0013-EXCHZ   Yes  Female           Yes     Yes         No       3   \n",
              "\n",
              "  PhoneService MultipleLines InternetService  ... DeviceProtection  \\\n",
              "0          Yes            No             DSL  ...               No   \n",
              "1          Yes           Yes             DSL  ...               No   \n",
              "2          Yes            No     Fiber optic  ...              Yes   \n",
              "3          Yes            No     Fiber optic  ...              Yes   \n",
              "4          Yes            No     Fiber optic  ...               No   \n",
              "\n",
              "  TechSupport StreamingTV StreamingMovies        Contract Charges_daily  \\\n",
              "0         Yes         Yes              No        One year          2.19   \n",
              "1          No          No             Yes  Month-to-month          2.00   \n",
              "2          No          No              No  Month-to-month          2.46   \n",
              "3          No         Yes             Yes  Month-to-month          3.27   \n",
              "4         Yes         Yes              No  Month-to-month          2.80   \n",
              "\n",
              "  PaperlessBilling     PaymentMethod Charges_Monthly Charges_Total  \n",
              "0              Yes      Mailed check            65.6        593.30  \n",
              "1               No      Mailed check            59.9        542.40  \n",
              "2              Yes  Electronic check            73.9        280.85  \n",
              "3              Yes  Electronic check            98.0       1237.85  \n",
              "4              Yes      Mailed check            83.9        267.40  \n",
              "\n",
              "[5 rows x 22 columns]"
            ],
            "text/html": [
              "\n",
              "  <div id=\"df-daab97a7-3534-476c-bdc1-b7d45c085cc7\">\n",
              "    <div class=\"colab-df-container\">\n",
              "      <div>\n",
              "<style scoped>\n",
              "    .dataframe tbody tr th:only-of-type {\n",
              "        vertical-align: middle;\n",
              "    }\n",
              "\n",
              "    .dataframe tbody tr th {\n",
              "        vertical-align: top;\n",
              "    }\n",
              "\n",
              "    .dataframe thead th {\n",
              "        text-align: right;\n",
              "    }\n",
              "</style>\n",
              "<table border=\"1\" class=\"dataframe\">\n",
              "  <thead>\n",
              "    <tr style=\"text-align: right;\">\n",
              "      <th></th>\n",
              "      <th>customerID</th>\n",
              "      <th>Churn</th>\n",
              "      <th>gender</th>\n",
              "      <th>SeniorCitizen</th>\n",
              "      <th>Partner</th>\n",
              "      <th>Dependents</th>\n",
              "      <th>tenure</th>\n",
              "      <th>PhoneService</th>\n",
              "      <th>MultipleLines</th>\n",
              "      <th>InternetService</th>\n",
              "      <th>...</th>\n",
              "      <th>DeviceProtection</th>\n",
              "      <th>TechSupport</th>\n",
              "      <th>StreamingTV</th>\n",
              "      <th>StreamingMovies</th>\n",
              "      <th>Contract</th>\n",
              "      <th>Charges_daily</th>\n",
              "      <th>PaperlessBilling</th>\n",
              "      <th>PaymentMethod</th>\n",
              "      <th>Charges_Monthly</th>\n",
              "      <th>Charges_Total</th>\n",
              "    </tr>\n",
              "  </thead>\n",
              "  <tbody>\n",
              "    <tr>\n",
              "      <th>0</th>\n",
              "      <td>0002-ORFBO</td>\n",
              "      <td>No</td>\n",
              "      <td>Female</td>\n",
              "      <td>No</td>\n",
              "      <td>Yes</td>\n",
              "      <td>Yes</td>\n",
              "      <td>9</td>\n",
              "      <td>Yes</td>\n",
              "      <td>No</td>\n",
              "      <td>DSL</td>\n",
              "      <td>...</td>\n",
              "      <td>No</td>\n",
              "      <td>Yes</td>\n",
              "      <td>Yes</td>\n",
              "      <td>No</td>\n",
              "      <td>One year</td>\n",
              "      <td>2.19</td>\n",
              "      <td>Yes</td>\n",
              "      <td>Mailed check</td>\n",
              "      <td>65.6</td>\n",
              "      <td>593.30</td>\n",
              "    </tr>\n",
              "    <tr>\n",
              "      <th>1</th>\n",
              "      <td>0003-MKNFE</td>\n",
              "      <td>No</td>\n",
              "      <td>Male</td>\n",
              "      <td>No</td>\n",
              "      <td>No</td>\n",
              "      <td>No</td>\n",
              "      <td>9</td>\n",
              "      <td>Yes</td>\n",
              "      <td>Yes</td>\n",
              "      <td>DSL</td>\n",
              "      <td>...</td>\n",
              "      <td>No</td>\n",
              "      <td>No</td>\n",
              "      <td>No</td>\n",
              "      <td>Yes</td>\n",
              "      <td>Month-to-month</td>\n",
              "      <td>2.00</td>\n",
              "      <td>No</td>\n",
              "      <td>Mailed check</td>\n",
              "      <td>59.9</td>\n",
              "      <td>542.40</td>\n",
              "    </tr>\n",
              "    <tr>\n",
              "      <th>2</th>\n",
              "      <td>0004-TLHLJ</td>\n",
              "      <td>Yes</td>\n",
              "      <td>Male</td>\n",
              "      <td>No</td>\n",
              "      <td>No</td>\n",
              "      <td>No</td>\n",
              "      <td>4</td>\n",
              "      <td>Yes</td>\n",
              "      <td>No</td>\n",
              "      <td>Fiber optic</td>\n",
              "      <td>...</td>\n",
              "      <td>Yes</td>\n",
              "      <td>No</td>\n",
              "      <td>No</td>\n",
              "      <td>No</td>\n",
              "      <td>Month-to-month</td>\n",
              "      <td>2.46</td>\n",
              "      <td>Yes</td>\n",
              "      <td>Electronic check</td>\n",
              "      <td>73.9</td>\n",
              "      <td>280.85</td>\n",
              "    </tr>\n",
              "    <tr>\n",
              "      <th>3</th>\n",
              "      <td>0011-IGKFF</td>\n",
              "      <td>Yes</td>\n",
              "      <td>Male</td>\n",
              "      <td>Yes</td>\n",
              "      <td>Yes</td>\n",
              "      <td>No</td>\n",
              "      <td>13</td>\n",
              "      <td>Yes</td>\n",
              "      <td>No</td>\n",
              "      <td>Fiber optic</td>\n",
              "      <td>...</td>\n",
              "      <td>Yes</td>\n",
              "      <td>No</td>\n",
              "      <td>Yes</td>\n",
              "      <td>Yes</td>\n",
              "      <td>Month-to-month</td>\n",
              "      <td>3.27</td>\n",
              "      <td>Yes</td>\n",
              "      <td>Electronic check</td>\n",
              "      <td>98.0</td>\n",
              "      <td>1237.85</td>\n",
              "    </tr>\n",
              "    <tr>\n",
              "      <th>4</th>\n",
              "      <td>0013-EXCHZ</td>\n",
              "      <td>Yes</td>\n",
              "      <td>Female</td>\n",
              "      <td>Yes</td>\n",
              "      <td>Yes</td>\n",
              "      <td>No</td>\n",
              "      <td>3</td>\n",
              "      <td>Yes</td>\n",
              "      <td>No</td>\n",
              "      <td>Fiber optic</td>\n",
              "      <td>...</td>\n",
              "      <td>No</td>\n",
              "      <td>Yes</td>\n",
              "      <td>Yes</td>\n",
              "      <td>No</td>\n",
              "      <td>Month-to-month</td>\n",
              "      <td>2.80</td>\n",
              "      <td>Yes</td>\n",
              "      <td>Mailed check</td>\n",
              "      <td>83.9</td>\n",
              "      <td>267.40</td>\n",
              "    </tr>\n",
              "  </tbody>\n",
              "</table>\n",
              "<p>5 rows × 22 columns</p>\n",
              "</div>\n",
              "      <button class=\"colab-df-convert\" onclick=\"convertToInteractive('df-daab97a7-3534-476c-bdc1-b7d45c085cc7')\"\n",
              "              title=\"Convert this dataframe to an interactive table.\"\n",
              "              style=\"display:none;\">\n",
              "        \n",
              "  <svg xmlns=\"http://www.w3.org/2000/svg\" height=\"24px\"viewBox=\"0 0 24 24\"\n",
              "       width=\"24px\">\n",
              "    <path d=\"M0 0h24v24H0V0z\" fill=\"none\"/>\n",
              "    <path d=\"M18.56 5.44l.94 2.06.94-2.06 2.06-.94-2.06-.94-.94-2.06-.94 2.06-2.06.94zm-11 1L8.5 8.5l.94-2.06 2.06-.94-2.06-.94L8.5 2.5l-.94 2.06-2.06.94zm10 10l.94 2.06.94-2.06 2.06-.94-2.06-.94-.94-2.06-.94 2.06-2.06.94z\"/><path d=\"M17.41 7.96l-1.37-1.37c-.4-.4-.92-.59-1.43-.59-.52 0-1.04.2-1.43.59L10.3 9.45l-7.72 7.72c-.78.78-.78 2.05 0 2.83L4 21.41c.39.39.9.59 1.41.59.51 0 1.02-.2 1.41-.59l7.78-7.78 2.81-2.81c.8-.78.8-2.07 0-2.86zM5.41 20L4 18.59l7.72-7.72 1.47 1.35L5.41 20z\"/>\n",
              "  </svg>\n",
              "      </button>\n",
              "      \n",
              "  <style>\n",
              "    .colab-df-container {\n",
              "      display:flex;\n",
              "      flex-wrap:wrap;\n",
              "      gap: 12px;\n",
              "    }\n",
              "\n",
              "    .colab-df-convert {\n",
              "      background-color: #E8F0FE;\n",
              "      border: none;\n",
              "      border-radius: 50%;\n",
              "      cursor: pointer;\n",
              "      display: none;\n",
              "      fill: #1967D2;\n",
              "      height: 32px;\n",
              "      padding: 0 0 0 0;\n",
              "      width: 32px;\n",
              "    }\n",
              "\n",
              "    .colab-df-convert:hover {\n",
              "      background-color: #E2EBFA;\n",
              "      box-shadow: 0px 1px 2px rgba(60, 64, 67, 0.3), 0px 1px 3px 1px rgba(60, 64, 67, 0.15);\n",
              "      fill: #174EA6;\n",
              "    }\n",
              "\n",
              "    [theme=dark] .colab-df-convert {\n",
              "      background-color: #3B4455;\n",
              "      fill: #D2E3FC;\n",
              "    }\n",
              "\n",
              "    [theme=dark] .colab-df-convert:hover {\n",
              "      background-color: #434B5C;\n",
              "      box-shadow: 0px 1px 3px 1px rgba(0, 0, 0, 0.15);\n",
              "      filter: drop-shadow(0px 1px 2px rgba(0, 0, 0, 0.3));\n",
              "      fill: #FFFFFF;\n",
              "    }\n",
              "  </style>\n",
              "\n",
              "      <script>\n",
              "        const buttonEl =\n",
              "          document.querySelector('#df-daab97a7-3534-476c-bdc1-b7d45c085cc7 button.colab-df-convert');\n",
              "        buttonEl.style.display =\n",
              "          google.colab.kernel.accessAllowed ? 'block' : 'none';\n",
              "\n",
              "        async function convertToInteractive(key) {\n",
              "          const element = document.querySelector('#df-daab97a7-3534-476c-bdc1-b7d45c085cc7');\n",
              "          const dataTable =\n",
              "            await google.colab.kernel.invokeFunction('convertToInteractive',\n",
              "                                                     [key], {});\n",
              "          if (!dataTable) return;\n",
              "\n",
              "          const docLinkHtml = 'Like what you see? Visit the ' +\n",
              "            '<a target=\"_blank\" href=https://colab.research.google.com/notebooks/data_table.ipynb>data table notebook</a>'\n",
              "            + ' to learn more about interactive tables.';\n",
              "          element.innerHTML = '';\n",
              "          dataTable['output_type'] = 'display_data';\n",
              "          await google.colab.output.renderOutput(dataTable, element);\n",
              "          const docLink = document.createElement('div');\n",
              "          docLink.innerHTML = docLinkHtml;\n",
              "          element.appendChild(docLink);\n",
              "        }\n",
              "      </script>\n",
              "    </div>\n",
              "  </div>\n",
              "  "
            ]
          },
          "metadata": {},
          "execution_count": 1
        }
      ]
    },
    {
      "cell_type": "code",
      "source": [
        "df.drop(df[df.Churn == 'No information'].index, inplace=True)"
      ],
      "metadata": {
        "id": "l5dFOFPzkr1E"
      },
      "execution_count": 2,
      "outputs": []
    },
    {
      "cell_type": "markdown",
      "source": [
        "# Hyphoteses\n",
        "\n",
        "- Senior Citizen clients are more inlcined to leave the company.\n",
        "\n",
        "- A great deal of clients that has 'Fiber Optic' as internet Service left the company. Fiber Optic internet is presenting functionality issues.\n",
        "\n",
        "- The shorter the contract period, the higher is the churn rate. Clients who do not have a long term contract tend to have less commitment to the company. Likely due to a breach of contract fee.\n",
        "\n",
        "- Cients that do not have online security has a higher Churn rate. Probably they have more problems with the internet service, due to its vounerabolity.\n",
        "\n",
        "- Cients that do not have TechSupport has a higher Churn rate. Probably they have more problems unsolved with the internet service.\n",
        "\n",
        "- Churn occurs most often in customers with little plan time, around 0 to 20 months of contract."
      ],
      "metadata": {
        "id": "183VbSAfTCbl"
      }
    },
    {
      "cell_type": "markdown",
      "source": [
        "## Data Encoding "
      ],
      "metadata": {
        "id": "d9mHC-zBY7_V"
      }
    },
    {
      "cell_type": "code",
      "source": [
        "df.columns"
      ],
      "metadata": {
        "colab": {
          "base_uri": "https://localhost:8080/"
        },
        "id": "eRR2GeVbbHb-",
        "outputId": "75ed8ab0-69d0-4c11-8692-90179feff951"
      },
      "execution_count": null,
      "outputs": [
        {
          "output_type": "execute_result",
          "data": {
            "text/plain": [
              "Index(['customerID', 'Churn', 'gender', 'SeniorCitizen', 'Partner',\n",
              "       'Dependents', 'tenure', 'PhoneService', 'MultipleLines',\n",
              "       'InternetService', 'OnlineSecurity', 'OnlineBackup', 'DeviceProtection',\n",
              "       'TechSupport', 'StreamingTV', 'StreamingMovies', 'Contract',\n",
              "       'Charges_daily', 'PaperlessBilling', 'PaymentMethod', 'Charges_Monthly',\n",
              "       'Charges_Total'],\n",
              "      dtype='object')"
            ]
          },
          "metadata": {},
          "execution_count": 6
        }
      ]
    },
    {
      "cell_type": "code",
      "source": [
        "\n",
        "df_encoded = pd.get_dummies(data=df, columns=['InternetService'])\n",
        "df_encoded = pd.get_dummies(data=df_encoded, columns=['Contract'])\n",
        "df_encoded = pd.get_dummies(data=df_encoded, columns=['OnlineSecurity'])\n",
        "df_encoded = pd.get_dummies(data=df_encoded, columns=['TechSupport'])\n",
        "df_encoded = pd.get_dummies(data=df_encoded, columns=['SeniorCitizen'])\n",
        "df_encoded.head()"
      ],
      "metadata": {
        "colab": {
          "base_uri": "https://localhost:8080/",
          "height": 404
        },
        "id": "_DiDvE5MY7fl",
        "outputId": "07dc397d-0fce-4f3d-bd94-0eac90dda779"
      },
      "execution_count": null,
      "outputs": [
        {
          "output_type": "execute_result",
          "data": {
            "text/plain": [
              "   customerID Churn  gender Partner Dependents  tenure PhoneService  \\\n",
              "0  0002-ORFBO    No  Female     Yes        Yes       9          Yes   \n",
              "1  0003-MKNFE    No    Male      No         No       9          Yes   \n",
              "2  0004-TLHLJ   Yes    Male      No         No       4          Yes   \n",
              "3  0011-IGKFF   Yes    Male     Yes         No      13          Yes   \n",
              "4  0013-EXCHZ   Yes  Female     Yes         No       3          Yes   \n",
              "\n",
              "  MultipleLines OnlineBackup DeviceProtection  ... Contract_One year  \\\n",
              "0            No          Yes               No  ...                 1   \n",
              "1           Yes           No               No  ...                 0   \n",
              "2            No           No              Yes  ...                 0   \n",
              "3            No          Yes              Yes  ...                 0   \n",
              "4            No           No               No  ...                 0   \n",
              "\n",
              "  Contract_Two year  OnlineSecurity_No OnlineSecurity_No internet service  \\\n",
              "0                 0                  1                                  0   \n",
              "1                 0                  1                                  0   \n",
              "2                 0                  1                                  0   \n",
              "3                 0                  1                                  0   \n",
              "4                 0                  1                                  0   \n",
              "\n",
              "  OnlineSecurity_Yes  TechSupport_No  TechSupport_No internet service  \\\n",
              "0                  0               0                                0   \n",
              "1                  0               1                                0   \n",
              "2                  0               1                                0   \n",
              "3                  0               1                                0   \n",
              "4                  0               0                                0   \n",
              "\n",
              "   TechSupport_Yes  SeniorCitizen_No  SeniorCitizen_Yes  \n",
              "0                1                 1                  0  \n",
              "1                0                 1                  0  \n",
              "2                0                 1                  0  \n",
              "3                0                 0                  1  \n",
              "4                1                 0                  1  \n",
              "\n",
              "[5 rows x 31 columns]"
            ],
            "text/html": [
              "\n",
              "  <div id=\"df-5cc8b080-19a7-497f-934d-21cf96780169\">\n",
              "    <div class=\"colab-df-container\">\n",
              "      <div>\n",
              "<style scoped>\n",
              "    .dataframe tbody tr th:only-of-type {\n",
              "        vertical-align: middle;\n",
              "    }\n",
              "\n",
              "    .dataframe tbody tr th {\n",
              "        vertical-align: top;\n",
              "    }\n",
              "\n",
              "    .dataframe thead th {\n",
              "        text-align: right;\n",
              "    }\n",
              "</style>\n",
              "<table border=\"1\" class=\"dataframe\">\n",
              "  <thead>\n",
              "    <tr style=\"text-align: right;\">\n",
              "      <th></th>\n",
              "      <th>customerID</th>\n",
              "      <th>Churn</th>\n",
              "      <th>gender</th>\n",
              "      <th>Partner</th>\n",
              "      <th>Dependents</th>\n",
              "      <th>tenure</th>\n",
              "      <th>PhoneService</th>\n",
              "      <th>MultipleLines</th>\n",
              "      <th>OnlineBackup</th>\n",
              "      <th>DeviceProtection</th>\n",
              "      <th>...</th>\n",
              "      <th>Contract_One year</th>\n",
              "      <th>Contract_Two year</th>\n",
              "      <th>OnlineSecurity_No</th>\n",
              "      <th>OnlineSecurity_No internet service</th>\n",
              "      <th>OnlineSecurity_Yes</th>\n",
              "      <th>TechSupport_No</th>\n",
              "      <th>TechSupport_No internet service</th>\n",
              "      <th>TechSupport_Yes</th>\n",
              "      <th>SeniorCitizen_No</th>\n",
              "      <th>SeniorCitizen_Yes</th>\n",
              "    </tr>\n",
              "  </thead>\n",
              "  <tbody>\n",
              "    <tr>\n",
              "      <th>0</th>\n",
              "      <td>0002-ORFBO</td>\n",
              "      <td>No</td>\n",
              "      <td>Female</td>\n",
              "      <td>Yes</td>\n",
              "      <td>Yes</td>\n",
              "      <td>9</td>\n",
              "      <td>Yes</td>\n",
              "      <td>No</td>\n",
              "      <td>Yes</td>\n",
              "      <td>No</td>\n",
              "      <td>...</td>\n",
              "      <td>1</td>\n",
              "      <td>0</td>\n",
              "      <td>1</td>\n",
              "      <td>0</td>\n",
              "      <td>0</td>\n",
              "      <td>0</td>\n",
              "      <td>0</td>\n",
              "      <td>1</td>\n",
              "      <td>1</td>\n",
              "      <td>0</td>\n",
              "    </tr>\n",
              "    <tr>\n",
              "      <th>1</th>\n",
              "      <td>0003-MKNFE</td>\n",
              "      <td>No</td>\n",
              "      <td>Male</td>\n",
              "      <td>No</td>\n",
              "      <td>No</td>\n",
              "      <td>9</td>\n",
              "      <td>Yes</td>\n",
              "      <td>Yes</td>\n",
              "      <td>No</td>\n",
              "      <td>No</td>\n",
              "      <td>...</td>\n",
              "      <td>0</td>\n",
              "      <td>0</td>\n",
              "      <td>1</td>\n",
              "      <td>0</td>\n",
              "      <td>0</td>\n",
              "      <td>1</td>\n",
              "      <td>0</td>\n",
              "      <td>0</td>\n",
              "      <td>1</td>\n",
              "      <td>0</td>\n",
              "    </tr>\n",
              "    <tr>\n",
              "      <th>2</th>\n",
              "      <td>0004-TLHLJ</td>\n",
              "      <td>Yes</td>\n",
              "      <td>Male</td>\n",
              "      <td>No</td>\n",
              "      <td>No</td>\n",
              "      <td>4</td>\n",
              "      <td>Yes</td>\n",
              "      <td>No</td>\n",
              "      <td>No</td>\n",
              "      <td>Yes</td>\n",
              "      <td>...</td>\n",
              "      <td>0</td>\n",
              "      <td>0</td>\n",
              "      <td>1</td>\n",
              "      <td>0</td>\n",
              "      <td>0</td>\n",
              "      <td>1</td>\n",
              "      <td>0</td>\n",
              "      <td>0</td>\n",
              "      <td>1</td>\n",
              "      <td>0</td>\n",
              "    </tr>\n",
              "    <tr>\n",
              "      <th>3</th>\n",
              "      <td>0011-IGKFF</td>\n",
              "      <td>Yes</td>\n",
              "      <td>Male</td>\n",
              "      <td>Yes</td>\n",
              "      <td>No</td>\n",
              "      <td>13</td>\n",
              "      <td>Yes</td>\n",
              "      <td>No</td>\n",
              "      <td>Yes</td>\n",
              "      <td>Yes</td>\n",
              "      <td>...</td>\n",
              "      <td>0</td>\n",
              "      <td>0</td>\n",
              "      <td>1</td>\n",
              "      <td>0</td>\n",
              "      <td>0</td>\n",
              "      <td>1</td>\n",
              "      <td>0</td>\n",
              "      <td>0</td>\n",
              "      <td>0</td>\n",
              "      <td>1</td>\n",
              "    </tr>\n",
              "    <tr>\n",
              "      <th>4</th>\n",
              "      <td>0013-EXCHZ</td>\n",
              "      <td>Yes</td>\n",
              "      <td>Female</td>\n",
              "      <td>Yes</td>\n",
              "      <td>No</td>\n",
              "      <td>3</td>\n",
              "      <td>Yes</td>\n",
              "      <td>No</td>\n",
              "      <td>No</td>\n",
              "      <td>No</td>\n",
              "      <td>...</td>\n",
              "      <td>0</td>\n",
              "      <td>0</td>\n",
              "      <td>1</td>\n",
              "      <td>0</td>\n",
              "      <td>0</td>\n",
              "      <td>0</td>\n",
              "      <td>0</td>\n",
              "      <td>1</td>\n",
              "      <td>0</td>\n",
              "      <td>1</td>\n",
              "    </tr>\n",
              "  </tbody>\n",
              "</table>\n",
              "<p>5 rows × 31 columns</p>\n",
              "</div>\n",
              "      <button class=\"colab-df-convert\" onclick=\"convertToInteractive('df-5cc8b080-19a7-497f-934d-21cf96780169')\"\n",
              "              title=\"Convert this dataframe to an interactive table.\"\n",
              "              style=\"display:none;\">\n",
              "        \n",
              "  <svg xmlns=\"http://www.w3.org/2000/svg\" height=\"24px\"viewBox=\"0 0 24 24\"\n",
              "       width=\"24px\">\n",
              "    <path d=\"M0 0h24v24H0V0z\" fill=\"none\"/>\n",
              "    <path d=\"M18.56 5.44l.94 2.06.94-2.06 2.06-.94-2.06-.94-.94-2.06-.94 2.06-2.06.94zm-11 1L8.5 8.5l.94-2.06 2.06-.94-2.06-.94L8.5 2.5l-.94 2.06-2.06.94zm10 10l.94 2.06.94-2.06 2.06-.94-2.06-.94-.94-2.06-.94 2.06-2.06.94z\"/><path d=\"M17.41 7.96l-1.37-1.37c-.4-.4-.92-.59-1.43-.59-.52 0-1.04.2-1.43.59L10.3 9.45l-7.72 7.72c-.78.78-.78 2.05 0 2.83L4 21.41c.39.39.9.59 1.41.59.51 0 1.02-.2 1.41-.59l7.78-7.78 2.81-2.81c.8-.78.8-2.07 0-2.86zM5.41 20L4 18.59l7.72-7.72 1.47 1.35L5.41 20z\"/>\n",
              "  </svg>\n",
              "      </button>\n",
              "      \n",
              "  <style>\n",
              "    .colab-df-container {\n",
              "      display:flex;\n",
              "      flex-wrap:wrap;\n",
              "      gap: 12px;\n",
              "    }\n",
              "\n",
              "    .colab-df-convert {\n",
              "      background-color: #E8F0FE;\n",
              "      border: none;\n",
              "      border-radius: 50%;\n",
              "      cursor: pointer;\n",
              "      display: none;\n",
              "      fill: #1967D2;\n",
              "      height: 32px;\n",
              "      padding: 0 0 0 0;\n",
              "      width: 32px;\n",
              "    }\n",
              "\n",
              "    .colab-df-convert:hover {\n",
              "      background-color: #E2EBFA;\n",
              "      box-shadow: 0px 1px 2px rgba(60, 64, 67, 0.3), 0px 1px 3px 1px rgba(60, 64, 67, 0.15);\n",
              "      fill: #174EA6;\n",
              "    }\n",
              "\n",
              "    [theme=dark] .colab-df-convert {\n",
              "      background-color: #3B4455;\n",
              "      fill: #D2E3FC;\n",
              "    }\n",
              "\n",
              "    [theme=dark] .colab-df-convert:hover {\n",
              "      background-color: #434B5C;\n",
              "      box-shadow: 0px 1px 3px 1px rgba(0, 0, 0, 0.15);\n",
              "      filter: drop-shadow(0px 1px 2px rgba(0, 0, 0, 0.3));\n",
              "      fill: #FFFFFF;\n",
              "    }\n",
              "  </style>\n",
              "\n",
              "      <script>\n",
              "        const buttonEl =\n",
              "          document.querySelector('#df-5cc8b080-19a7-497f-934d-21cf96780169 button.colab-df-convert');\n",
              "        buttonEl.style.display =\n",
              "          google.colab.kernel.accessAllowed ? 'block' : 'none';\n",
              "\n",
              "        async function convertToInteractive(key) {\n",
              "          const element = document.querySelector('#df-5cc8b080-19a7-497f-934d-21cf96780169');\n",
              "          const dataTable =\n",
              "            await google.colab.kernel.invokeFunction('convertToInteractive',\n",
              "                                                     [key], {});\n",
              "          if (!dataTable) return;\n",
              "\n",
              "          const docLinkHtml = 'Like what you see? Visit the ' +\n",
              "            '<a target=\"_blank\" href=https://colab.research.google.com/notebooks/data_table.ipynb>data table notebook</a>'\n",
              "            + ' to learn more about interactive tables.';\n",
              "          element.innerHTML = '';\n",
              "          dataTable['output_type'] = 'display_data';\n",
              "          await google.colab.output.renderOutput(dataTable, element);\n",
              "          const docLink = document.createElement('div');\n",
              "          docLink.innerHTML = docLinkHtml;\n",
              "          element.appendChild(docLink);\n",
              "        }\n",
              "      </script>\n",
              "    </div>\n",
              "  </div>\n",
              "  "
            ]
          },
          "metadata": {},
          "execution_count": 7
        }
      ]
    },
    {
      "cell_type": "code",
      "source": [
        "df_encoded = df_encoded.drop(['customerID', 'gender', 'Partner',\n",
        "       'Dependents', 'tenure', 'PhoneService', 'MultipleLines',\n",
        "       'OnlineBackup', 'DeviceProtection','StreamingTV', 'StreamingMovies',\n",
        "       'Charges_daily', 'PaperlessBilling', 'PaymentMethod', 'Charges_Monthly',\n",
        "       'Charges_Total'], axis=1)\n",
        "df_encoded.head()"
      ],
      "metadata": {
        "colab": {
          "base_uri": "https://localhost:8080/",
          "height": 305
        },
        "id": "8qiO_vAJYm0L",
        "outputId": "f27d6cee-8877-4605-8f1c-f8ca15a7f8c6"
      },
      "execution_count": null,
      "outputs": [
        {
          "output_type": "execute_result",
          "data": {
            "text/plain": [
              "  Churn  InternetService_DSL  InternetService_Fiber optic  InternetService_No  \\\n",
              "0    No                    1                            0                   0   \n",
              "1    No                    1                            0                   0   \n",
              "2   Yes                    0                            1                   0   \n",
              "3   Yes                    0                            1                   0   \n",
              "4   Yes                    0                            1                   0   \n",
              "\n",
              "   Contract_Month-to-month  Contract_One year  Contract_Two year  \\\n",
              "0                        0                  1                  0   \n",
              "1                        1                  0                  0   \n",
              "2                        1                  0                  0   \n",
              "3                        1                  0                  0   \n",
              "4                        1                  0                  0   \n",
              "\n",
              "   OnlineSecurity_No  OnlineSecurity_No internet service  OnlineSecurity_Yes  \\\n",
              "0                  1                                   0                   0   \n",
              "1                  1                                   0                   0   \n",
              "2                  1                                   0                   0   \n",
              "3                  1                                   0                   0   \n",
              "4                  1                                   0                   0   \n",
              "\n",
              "   TechSupport_No  TechSupport_No internet service  TechSupport_Yes  \\\n",
              "0               0                                0                1   \n",
              "1               1                                0                0   \n",
              "2               1                                0                0   \n",
              "3               1                                0                0   \n",
              "4               0                                0                1   \n",
              "\n",
              "   SeniorCitizen_No  SeniorCitizen_Yes  \n",
              "0                 1                  0  \n",
              "1                 1                  0  \n",
              "2                 1                  0  \n",
              "3                 0                  1  \n",
              "4                 0                  1  "
            ],
            "text/html": [
              "\n",
              "  <div id=\"df-d70033f4-459e-4ed1-ab67-dc07cf120ed8\">\n",
              "    <div class=\"colab-df-container\">\n",
              "      <div>\n",
              "<style scoped>\n",
              "    .dataframe tbody tr th:only-of-type {\n",
              "        vertical-align: middle;\n",
              "    }\n",
              "\n",
              "    .dataframe tbody tr th {\n",
              "        vertical-align: top;\n",
              "    }\n",
              "\n",
              "    .dataframe thead th {\n",
              "        text-align: right;\n",
              "    }\n",
              "</style>\n",
              "<table border=\"1\" class=\"dataframe\">\n",
              "  <thead>\n",
              "    <tr style=\"text-align: right;\">\n",
              "      <th></th>\n",
              "      <th>Churn</th>\n",
              "      <th>InternetService_DSL</th>\n",
              "      <th>InternetService_Fiber optic</th>\n",
              "      <th>InternetService_No</th>\n",
              "      <th>Contract_Month-to-month</th>\n",
              "      <th>Contract_One year</th>\n",
              "      <th>Contract_Two year</th>\n",
              "      <th>OnlineSecurity_No</th>\n",
              "      <th>OnlineSecurity_No internet service</th>\n",
              "      <th>OnlineSecurity_Yes</th>\n",
              "      <th>TechSupport_No</th>\n",
              "      <th>TechSupport_No internet service</th>\n",
              "      <th>TechSupport_Yes</th>\n",
              "      <th>SeniorCitizen_No</th>\n",
              "      <th>SeniorCitizen_Yes</th>\n",
              "    </tr>\n",
              "  </thead>\n",
              "  <tbody>\n",
              "    <tr>\n",
              "      <th>0</th>\n",
              "      <td>No</td>\n",
              "      <td>1</td>\n",
              "      <td>0</td>\n",
              "      <td>0</td>\n",
              "      <td>0</td>\n",
              "      <td>1</td>\n",
              "      <td>0</td>\n",
              "      <td>1</td>\n",
              "      <td>0</td>\n",
              "      <td>0</td>\n",
              "      <td>0</td>\n",
              "      <td>0</td>\n",
              "      <td>1</td>\n",
              "      <td>1</td>\n",
              "      <td>0</td>\n",
              "    </tr>\n",
              "    <tr>\n",
              "      <th>1</th>\n",
              "      <td>No</td>\n",
              "      <td>1</td>\n",
              "      <td>0</td>\n",
              "      <td>0</td>\n",
              "      <td>1</td>\n",
              "      <td>0</td>\n",
              "      <td>0</td>\n",
              "      <td>1</td>\n",
              "      <td>0</td>\n",
              "      <td>0</td>\n",
              "      <td>1</td>\n",
              "      <td>0</td>\n",
              "      <td>0</td>\n",
              "      <td>1</td>\n",
              "      <td>0</td>\n",
              "    </tr>\n",
              "    <tr>\n",
              "      <th>2</th>\n",
              "      <td>Yes</td>\n",
              "      <td>0</td>\n",
              "      <td>1</td>\n",
              "      <td>0</td>\n",
              "      <td>1</td>\n",
              "      <td>0</td>\n",
              "      <td>0</td>\n",
              "      <td>1</td>\n",
              "      <td>0</td>\n",
              "      <td>0</td>\n",
              "      <td>1</td>\n",
              "      <td>0</td>\n",
              "      <td>0</td>\n",
              "      <td>1</td>\n",
              "      <td>0</td>\n",
              "    </tr>\n",
              "    <tr>\n",
              "      <th>3</th>\n",
              "      <td>Yes</td>\n",
              "      <td>0</td>\n",
              "      <td>1</td>\n",
              "      <td>0</td>\n",
              "      <td>1</td>\n",
              "      <td>0</td>\n",
              "      <td>0</td>\n",
              "      <td>1</td>\n",
              "      <td>0</td>\n",
              "      <td>0</td>\n",
              "      <td>1</td>\n",
              "      <td>0</td>\n",
              "      <td>0</td>\n",
              "      <td>0</td>\n",
              "      <td>1</td>\n",
              "    </tr>\n",
              "    <tr>\n",
              "      <th>4</th>\n",
              "      <td>Yes</td>\n",
              "      <td>0</td>\n",
              "      <td>1</td>\n",
              "      <td>0</td>\n",
              "      <td>1</td>\n",
              "      <td>0</td>\n",
              "      <td>0</td>\n",
              "      <td>1</td>\n",
              "      <td>0</td>\n",
              "      <td>0</td>\n",
              "      <td>0</td>\n",
              "      <td>0</td>\n",
              "      <td>1</td>\n",
              "      <td>0</td>\n",
              "      <td>1</td>\n",
              "    </tr>\n",
              "  </tbody>\n",
              "</table>\n",
              "</div>\n",
              "      <button class=\"colab-df-convert\" onclick=\"convertToInteractive('df-d70033f4-459e-4ed1-ab67-dc07cf120ed8')\"\n",
              "              title=\"Convert this dataframe to an interactive table.\"\n",
              "              style=\"display:none;\">\n",
              "        \n",
              "  <svg xmlns=\"http://www.w3.org/2000/svg\" height=\"24px\"viewBox=\"0 0 24 24\"\n",
              "       width=\"24px\">\n",
              "    <path d=\"M0 0h24v24H0V0z\" fill=\"none\"/>\n",
              "    <path d=\"M18.56 5.44l.94 2.06.94-2.06 2.06-.94-2.06-.94-.94-2.06-.94 2.06-2.06.94zm-11 1L8.5 8.5l.94-2.06 2.06-.94-2.06-.94L8.5 2.5l-.94 2.06-2.06.94zm10 10l.94 2.06.94-2.06 2.06-.94-2.06-.94-.94-2.06-.94 2.06-2.06.94z\"/><path d=\"M17.41 7.96l-1.37-1.37c-.4-.4-.92-.59-1.43-.59-.52 0-1.04.2-1.43.59L10.3 9.45l-7.72 7.72c-.78.78-.78 2.05 0 2.83L4 21.41c.39.39.9.59 1.41.59.51 0 1.02-.2 1.41-.59l7.78-7.78 2.81-2.81c.8-.78.8-2.07 0-2.86zM5.41 20L4 18.59l7.72-7.72 1.47 1.35L5.41 20z\"/>\n",
              "  </svg>\n",
              "      </button>\n",
              "      \n",
              "  <style>\n",
              "    .colab-df-container {\n",
              "      display:flex;\n",
              "      flex-wrap:wrap;\n",
              "      gap: 12px;\n",
              "    }\n",
              "\n",
              "    .colab-df-convert {\n",
              "      background-color: #E8F0FE;\n",
              "      border: none;\n",
              "      border-radius: 50%;\n",
              "      cursor: pointer;\n",
              "      display: none;\n",
              "      fill: #1967D2;\n",
              "      height: 32px;\n",
              "      padding: 0 0 0 0;\n",
              "      width: 32px;\n",
              "    }\n",
              "\n",
              "    .colab-df-convert:hover {\n",
              "      background-color: #E2EBFA;\n",
              "      box-shadow: 0px 1px 2px rgba(60, 64, 67, 0.3), 0px 1px 3px 1px rgba(60, 64, 67, 0.15);\n",
              "      fill: #174EA6;\n",
              "    }\n",
              "\n",
              "    [theme=dark] .colab-df-convert {\n",
              "      background-color: #3B4455;\n",
              "      fill: #D2E3FC;\n",
              "    }\n",
              "\n",
              "    [theme=dark] .colab-df-convert:hover {\n",
              "      background-color: #434B5C;\n",
              "      box-shadow: 0px 1px 3px 1px rgba(0, 0, 0, 0.15);\n",
              "      filter: drop-shadow(0px 1px 2px rgba(0, 0, 0, 0.3));\n",
              "      fill: #FFFFFF;\n",
              "    }\n",
              "  </style>\n",
              "\n",
              "      <script>\n",
              "        const buttonEl =\n",
              "          document.querySelector('#df-d70033f4-459e-4ed1-ab67-dc07cf120ed8 button.colab-df-convert');\n",
              "        buttonEl.style.display =\n",
              "          google.colab.kernel.accessAllowed ? 'block' : 'none';\n",
              "\n",
              "        async function convertToInteractive(key) {\n",
              "          const element = document.querySelector('#df-d70033f4-459e-4ed1-ab67-dc07cf120ed8');\n",
              "          const dataTable =\n",
              "            await google.colab.kernel.invokeFunction('convertToInteractive',\n",
              "                                                     [key], {});\n",
              "          if (!dataTable) return;\n",
              "\n",
              "          const docLinkHtml = 'Like what you see? Visit the ' +\n",
              "            '<a target=\"_blank\" href=https://colab.research.google.com/notebooks/data_table.ipynb>data table notebook</a>'\n",
              "            + ' to learn more about interactive tables.';\n",
              "          element.innerHTML = '';\n",
              "          dataTable['output_type'] = 'display_data';\n",
              "          await google.colab.output.renderOutput(dataTable, element);\n",
              "          const docLink = document.createElement('div');\n",
              "          docLink.innerHTML = docLinkHtml;\n",
              "          element.appendChild(docLink);\n",
              "        }\n",
              "      </script>\n",
              "    </div>\n",
              "  </div>\n",
              "  "
            ]
          },
          "metadata": {},
          "execution_count": 8
        }
      ]
    },
    {
      "cell_type": "code",
      "source": [
        "map = {\n",
        "    'Yes':1,\n",
        "    'No':0\n",
        "}\n",
        "df_encoded['Churn'] = df_encoded.Churn.map(map)\n",
        "df_encoded.head()"
      ],
      "metadata": {
        "colab": {
          "base_uri": "https://localhost:8080/",
          "height": 305
        },
        "id": "uFL2W1k7caUb",
        "outputId": "64c6eaf2-7ff2-45b4-c6c3-8411beb0ac93"
      },
      "execution_count": null,
      "outputs": [
        {
          "output_type": "execute_result",
          "data": {
            "text/plain": [
              "   Churn  InternetService_DSL  InternetService_Fiber optic  \\\n",
              "0      0                    1                            0   \n",
              "1      0                    1                            0   \n",
              "2      1                    0                            1   \n",
              "3      1                    0                            1   \n",
              "4      1                    0                            1   \n",
              "\n",
              "   InternetService_No  Contract_Month-to-month  Contract_One year  \\\n",
              "0                   0                        0                  1   \n",
              "1                   0                        1                  0   \n",
              "2                   0                        1                  0   \n",
              "3                   0                        1                  0   \n",
              "4                   0                        1                  0   \n",
              "\n",
              "   Contract_Two year  OnlineSecurity_No  OnlineSecurity_No internet service  \\\n",
              "0                  0                  1                                   0   \n",
              "1                  0                  1                                   0   \n",
              "2                  0                  1                                   0   \n",
              "3                  0                  1                                   0   \n",
              "4                  0                  1                                   0   \n",
              "\n",
              "   OnlineSecurity_Yes  TechSupport_No  TechSupport_No internet service  \\\n",
              "0                   0               0                                0   \n",
              "1                   0               1                                0   \n",
              "2                   0               1                                0   \n",
              "3                   0               1                                0   \n",
              "4                   0               0                                0   \n",
              "\n",
              "   TechSupport_Yes  SeniorCitizen_No  SeniorCitizen_Yes  \n",
              "0                1                 1                  0  \n",
              "1                0                 1                  0  \n",
              "2                0                 1                  0  \n",
              "3                0                 0                  1  \n",
              "4                1                 0                  1  "
            ],
            "text/html": [
              "\n",
              "  <div id=\"df-acfbceca-f4ca-40cd-b284-5d3d9fea1171\">\n",
              "    <div class=\"colab-df-container\">\n",
              "      <div>\n",
              "<style scoped>\n",
              "    .dataframe tbody tr th:only-of-type {\n",
              "        vertical-align: middle;\n",
              "    }\n",
              "\n",
              "    .dataframe tbody tr th {\n",
              "        vertical-align: top;\n",
              "    }\n",
              "\n",
              "    .dataframe thead th {\n",
              "        text-align: right;\n",
              "    }\n",
              "</style>\n",
              "<table border=\"1\" class=\"dataframe\">\n",
              "  <thead>\n",
              "    <tr style=\"text-align: right;\">\n",
              "      <th></th>\n",
              "      <th>Churn</th>\n",
              "      <th>InternetService_DSL</th>\n",
              "      <th>InternetService_Fiber optic</th>\n",
              "      <th>InternetService_No</th>\n",
              "      <th>Contract_Month-to-month</th>\n",
              "      <th>Contract_One year</th>\n",
              "      <th>Contract_Two year</th>\n",
              "      <th>OnlineSecurity_No</th>\n",
              "      <th>OnlineSecurity_No internet service</th>\n",
              "      <th>OnlineSecurity_Yes</th>\n",
              "      <th>TechSupport_No</th>\n",
              "      <th>TechSupport_No internet service</th>\n",
              "      <th>TechSupport_Yes</th>\n",
              "      <th>SeniorCitizen_No</th>\n",
              "      <th>SeniorCitizen_Yes</th>\n",
              "    </tr>\n",
              "  </thead>\n",
              "  <tbody>\n",
              "    <tr>\n",
              "      <th>0</th>\n",
              "      <td>0</td>\n",
              "      <td>1</td>\n",
              "      <td>0</td>\n",
              "      <td>0</td>\n",
              "      <td>0</td>\n",
              "      <td>1</td>\n",
              "      <td>0</td>\n",
              "      <td>1</td>\n",
              "      <td>0</td>\n",
              "      <td>0</td>\n",
              "      <td>0</td>\n",
              "      <td>0</td>\n",
              "      <td>1</td>\n",
              "      <td>1</td>\n",
              "      <td>0</td>\n",
              "    </tr>\n",
              "    <tr>\n",
              "      <th>1</th>\n",
              "      <td>0</td>\n",
              "      <td>1</td>\n",
              "      <td>0</td>\n",
              "      <td>0</td>\n",
              "      <td>1</td>\n",
              "      <td>0</td>\n",
              "      <td>0</td>\n",
              "      <td>1</td>\n",
              "      <td>0</td>\n",
              "      <td>0</td>\n",
              "      <td>1</td>\n",
              "      <td>0</td>\n",
              "      <td>0</td>\n",
              "      <td>1</td>\n",
              "      <td>0</td>\n",
              "    </tr>\n",
              "    <tr>\n",
              "      <th>2</th>\n",
              "      <td>1</td>\n",
              "      <td>0</td>\n",
              "      <td>1</td>\n",
              "      <td>0</td>\n",
              "      <td>1</td>\n",
              "      <td>0</td>\n",
              "      <td>0</td>\n",
              "      <td>1</td>\n",
              "      <td>0</td>\n",
              "      <td>0</td>\n",
              "      <td>1</td>\n",
              "      <td>0</td>\n",
              "      <td>0</td>\n",
              "      <td>1</td>\n",
              "      <td>0</td>\n",
              "    </tr>\n",
              "    <tr>\n",
              "      <th>3</th>\n",
              "      <td>1</td>\n",
              "      <td>0</td>\n",
              "      <td>1</td>\n",
              "      <td>0</td>\n",
              "      <td>1</td>\n",
              "      <td>0</td>\n",
              "      <td>0</td>\n",
              "      <td>1</td>\n",
              "      <td>0</td>\n",
              "      <td>0</td>\n",
              "      <td>1</td>\n",
              "      <td>0</td>\n",
              "      <td>0</td>\n",
              "      <td>0</td>\n",
              "      <td>1</td>\n",
              "    </tr>\n",
              "    <tr>\n",
              "      <th>4</th>\n",
              "      <td>1</td>\n",
              "      <td>0</td>\n",
              "      <td>1</td>\n",
              "      <td>0</td>\n",
              "      <td>1</td>\n",
              "      <td>0</td>\n",
              "      <td>0</td>\n",
              "      <td>1</td>\n",
              "      <td>0</td>\n",
              "      <td>0</td>\n",
              "      <td>0</td>\n",
              "      <td>0</td>\n",
              "      <td>1</td>\n",
              "      <td>0</td>\n",
              "      <td>1</td>\n",
              "    </tr>\n",
              "  </tbody>\n",
              "</table>\n",
              "</div>\n",
              "      <button class=\"colab-df-convert\" onclick=\"convertToInteractive('df-acfbceca-f4ca-40cd-b284-5d3d9fea1171')\"\n",
              "              title=\"Convert this dataframe to an interactive table.\"\n",
              "              style=\"display:none;\">\n",
              "        \n",
              "  <svg xmlns=\"http://www.w3.org/2000/svg\" height=\"24px\"viewBox=\"0 0 24 24\"\n",
              "       width=\"24px\">\n",
              "    <path d=\"M0 0h24v24H0V0z\" fill=\"none\"/>\n",
              "    <path d=\"M18.56 5.44l.94 2.06.94-2.06 2.06-.94-2.06-.94-.94-2.06-.94 2.06-2.06.94zm-11 1L8.5 8.5l.94-2.06 2.06-.94-2.06-.94L8.5 2.5l-.94 2.06-2.06.94zm10 10l.94 2.06.94-2.06 2.06-.94-2.06-.94-.94-2.06-.94 2.06-2.06.94z\"/><path d=\"M17.41 7.96l-1.37-1.37c-.4-.4-.92-.59-1.43-.59-.52 0-1.04.2-1.43.59L10.3 9.45l-7.72 7.72c-.78.78-.78 2.05 0 2.83L4 21.41c.39.39.9.59 1.41.59.51 0 1.02-.2 1.41-.59l7.78-7.78 2.81-2.81c.8-.78.8-2.07 0-2.86zM5.41 20L4 18.59l7.72-7.72 1.47 1.35L5.41 20z\"/>\n",
              "  </svg>\n",
              "      </button>\n",
              "      \n",
              "  <style>\n",
              "    .colab-df-container {\n",
              "      display:flex;\n",
              "      flex-wrap:wrap;\n",
              "      gap: 12px;\n",
              "    }\n",
              "\n",
              "    .colab-df-convert {\n",
              "      background-color: #E8F0FE;\n",
              "      border: none;\n",
              "      border-radius: 50%;\n",
              "      cursor: pointer;\n",
              "      display: none;\n",
              "      fill: #1967D2;\n",
              "      height: 32px;\n",
              "      padding: 0 0 0 0;\n",
              "      width: 32px;\n",
              "    }\n",
              "\n",
              "    .colab-df-convert:hover {\n",
              "      background-color: #E2EBFA;\n",
              "      box-shadow: 0px 1px 2px rgba(60, 64, 67, 0.3), 0px 1px 3px 1px rgba(60, 64, 67, 0.15);\n",
              "      fill: #174EA6;\n",
              "    }\n",
              "\n",
              "    [theme=dark] .colab-df-convert {\n",
              "      background-color: #3B4455;\n",
              "      fill: #D2E3FC;\n",
              "    }\n",
              "\n",
              "    [theme=dark] .colab-df-convert:hover {\n",
              "      background-color: #434B5C;\n",
              "      box-shadow: 0px 1px 3px 1px rgba(0, 0, 0, 0.15);\n",
              "      filter: drop-shadow(0px 1px 2px rgba(0, 0, 0, 0.3));\n",
              "      fill: #FFFFFF;\n",
              "    }\n",
              "  </style>\n",
              "\n",
              "      <script>\n",
              "        const buttonEl =\n",
              "          document.querySelector('#df-acfbceca-f4ca-40cd-b284-5d3d9fea1171 button.colab-df-convert');\n",
              "        buttonEl.style.display =\n",
              "          google.colab.kernel.accessAllowed ? 'block' : 'none';\n",
              "\n",
              "        async function convertToInteractive(key) {\n",
              "          const element = document.querySelector('#df-acfbceca-f4ca-40cd-b284-5d3d9fea1171');\n",
              "          const dataTable =\n",
              "            await google.colab.kernel.invokeFunction('convertToInteractive',\n",
              "                                                     [key], {});\n",
              "          if (!dataTable) return;\n",
              "\n",
              "          const docLinkHtml = 'Like what you see? Visit the ' +\n",
              "            '<a target=\"_blank\" href=https://colab.research.google.com/notebooks/data_table.ipynb>data table notebook</a>'\n",
              "            + ' to learn more about interactive tables.';\n",
              "          element.innerHTML = '';\n",
              "          dataTable['output_type'] = 'display_data';\n",
              "          await google.colab.output.renderOutput(dataTable, element);\n",
              "          const docLink = document.createElement('div');\n",
              "          docLink.innerHTML = docLinkHtml;\n",
              "          element.appendChild(docLink);\n",
              "        }\n",
              "      </script>\n",
              "    </div>\n",
              "  </div>\n",
              "  "
            ]
          },
          "metadata": {},
          "execution_count": 9
        }
      ]
    },
    {
      "cell_type": "markdown",
      "source": [
        "## Balancing Dataset"
      ],
      "metadata": {
        "id": "cNFPFW-GgEL3"
      }
    },
    {
      "cell_type": "code",
      "source": [
        "pip install -U imbalanced-learn"
      ],
      "metadata": {
        "id": "orTnNKbPf4lt"
      },
      "execution_count": null,
      "outputs": []
    },
    {
      "cell_type": "code",
      "source": [
        "from imblearn.over_sampling import SMOTE\n",
        "import numpy as np\n",
        "\n",
        "SEED = 42\n",
        "\n",
        "smote = SMOTE(random_state=42)"
      ],
      "metadata": {
        "id": "dlnNhlh3gS-a"
      },
      "execution_count": null,
      "outputs": []
    },
    {
      "cell_type": "code",
      "source": [
        "x = df_encoded.drop('Churn', axis=1)\n",
        "y = df_encoded['Churn']"
      ],
      "metadata": {
        "id": "0yx6Ni4hgXtQ"
      },
      "execution_count": null,
      "outputs": []
    },
    {
      "cell_type": "code",
      "source": [
        "x_resampled, y_resampled = smote.fit_resample(x,y)"
      ],
      "metadata": {
        "id": "sCKlRvuagcdF"
      },
      "execution_count": null,
      "outputs": []
    },
    {
      "cell_type": "code",
      "source": [
        "df_balanced = pd.concat([y_resampled, x_resampled], axis=1)\n",
        "df_balanced"
      ],
      "metadata": {
        "colab": {
          "base_uri": "https://localhost:8080/",
          "height": 522
        },
        "id": "Ya0h6-uLgh8H",
        "outputId": "568e3693-6f0b-459a-f965-91e0af52c769"
      },
      "execution_count": null,
      "outputs": [
        {
          "output_type": "execute_result",
          "data": {
            "text/plain": [
              "       Churn  InternetService_DSL  InternetService_Fiber optic  \\\n",
              "0          0                    1                            0   \n",
              "1          0                    1                            0   \n",
              "2          1                    0                            1   \n",
              "3          1                    0                            1   \n",
              "4          1                    0                            1   \n",
              "...      ...                  ...                          ...   \n",
              "10343      1                    0                            1   \n",
              "10344      1                    0                            1   \n",
              "10345      1                    0                            0   \n",
              "10346      1                    0                            1   \n",
              "10347      1                    1                            0   \n",
              "\n",
              "       InternetService_No  Contract_Month-to-month  Contract_One year  \\\n",
              "0                       0                        0                  1   \n",
              "1                       0                        1                  0   \n",
              "2                       0                        1                  0   \n",
              "3                       0                        1                  0   \n",
              "4                       0                        1                  0   \n",
              "...                   ...                      ...                ...   \n",
              "10343                   0                        1                  0   \n",
              "10344                   0                        1                  0   \n",
              "10345                   1                        1                  0   \n",
              "10346                   0                        1                  0   \n",
              "10347                   0                        1                  0   \n",
              "\n",
              "       Contract_Two year  OnlineSecurity_No  \\\n",
              "0                      0                  1   \n",
              "1                      0                  1   \n",
              "2                      0                  1   \n",
              "3                      0                  1   \n",
              "4                      0                  1   \n",
              "...                  ...                ...   \n",
              "10343                  0                  1   \n",
              "10344                  0                  1   \n",
              "10345                  0                  0   \n",
              "10346                  0                  0   \n",
              "10347                  0                  0   \n",
              "\n",
              "       OnlineSecurity_No internet service  OnlineSecurity_Yes  TechSupport_No  \\\n",
              "0                                       0                   0               0   \n",
              "1                                       0                   0               1   \n",
              "2                                       0                   0               1   \n",
              "3                                       0                   0               1   \n",
              "4                                       0                   0               0   \n",
              "...                                   ...                 ...             ...   \n",
              "10343                                   0                   0               1   \n",
              "10344                                   0                   0               1   \n",
              "10345                                   1                   0               0   \n",
              "10346                                   0                   1               1   \n",
              "10347                                   0                   1               0   \n",
              "\n",
              "       TechSupport_No internet service  TechSupport_Yes  SeniorCitizen_No  \\\n",
              "0                                    0                1                 1   \n",
              "1                                    0                0                 1   \n",
              "2                                    0                0                 1   \n",
              "3                                    0                0                 0   \n",
              "4                                    0                1                 0   \n",
              "...                                ...              ...               ...   \n",
              "10343                                0                0                 0   \n",
              "10344                                0                0                 0   \n",
              "10345                                1                0                 1   \n",
              "10346                                0                0                 1   \n",
              "10347                                0                1                 1   \n",
              "\n",
              "       SeniorCitizen_Yes  \n",
              "0                      0  \n",
              "1                      0  \n",
              "2                      0  \n",
              "3                      1  \n",
              "4                      1  \n",
              "...                  ...  \n",
              "10343                  1  \n",
              "10344                  1  \n",
              "10345                  0  \n",
              "10346                  0  \n",
              "10347                  0  \n",
              "\n",
              "[10348 rows x 15 columns]"
            ],
            "text/html": [
              "\n",
              "  <div id=\"df-5dc2f095-1ecc-4a90-b9cd-4c0910327a1f\">\n",
              "    <div class=\"colab-df-container\">\n",
              "      <div>\n",
              "<style scoped>\n",
              "    .dataframe tbody tr th:only-of-type {\n",
              "        vertical-align: middle;\n",
              "    }\n",
              "\n",
              "    .dataframe tbody tr th {\n",
              "        vertical-align: top;\n",
              "    }\n",
              "\n",
              "    .dataframe thead th {\n",
              "        text-align: right;\n",
              "    }\n",
              "</style>\n",
              "<table border=\"1\" class=\"dataframe\">\n",
              "  <thead>\n",
              "    <tr style=\"text-align: right;\">\n",
              "      <th></th>\n",
              "      <th>Churn</th>\n",
              "      <th>InternetService_DSL</th>\n",
              "      <th>InternetService_Fiber optic</th>\n",
              "      <th>InternetService_No</th>\n",
              "      <th>Contract_Month-to-month</th>\n",
              "      <th>Contract_One year</th>\n",
              "      <th>Contract_Two year</th>\n",
              "      <th>OnlineSecurity_No</th>\n",
              "      <th>OnlineSecurity_No internet service</th>\n",
              "      <th>OnlineSecurity_Yes</th>\n",
              "      <th>TechSupport_No</th>\n",
              "      <th>TechSupport_No internet service</th>\n",
              "      <th>TechSupport_Yes</th>\n",
              "      <th>SeniorCitizen_No</th>\n",
              "      <th>SeniorCitizen_Yes</th>\n",
              "    </tr>\n",
              "  </thead>\n",
              "  <tbody>\n",
              "    <tr>\n",
              "      <th>0</th>\n",
              "      <td>0</td>\n",
              "      <td>1</td>\n",
              "      <td>0</td>\n",
              "      <td>0</td>\n",
              "      <td>0</td>\n",
              "      <td>1</td>\n",
              "      <td>0</td>\n",
              "      <td>1</td>\n",
              "      <td>0</td>\n",
              "      <td>0</td>\n",
              "      <td>0</td>\n",
              "      <td>0</td>\n",
              "      <td>1</td>\n",
              "      <td>1</td>\n",
              "      <td>0</td>\n",
              "    </tr>\n",
              "    <tr>\n",
              "      <th>1</th>\n",
              "      <td>0</td>\n",
              "      <td>1</td>\n",
              "      <td>0</td>\n",
              "      <td>0</td>\n",
              "      <td>1</td>\n",
              "      <td>0</td>\n",
              "      <td>0</td>\n",
              "      <td>1</td>\n",
              "      <td>0</td>\n",
              "      <td>0</td>\n",
              "      <td>1</td>\n",
              "      <td>0</td>\n",
              "      <td>0</td>\n",
              "      <td>1</td>\n",
              "      <td>0</td>\n",
              "    </tr>\n",
              "    <tr>\n",
              "      <th>2</th>\n",
              "      <td>1</td>\n",
              "      <td>0</td>\n",
              "      <td>1</td>\n",
              "      <td>0</td>\n",
              "      <td>1</td>\n",
              "      <td>0</td>\n",
              "      <td>0</td>\n",
              "      <td>1</td>\n",
              "      <td>0</td>\n",
              "      <td>0</td>\n",
              "      <td>1</td>\n",
              "      <td>0</td>\n",
              "      <td>0</td>\n",
              "      <td>1</td>\n",
              "      <td>0</td>\n",
              "    </tr>\n",
              "    <tr>\n",
              "      <th>3</th>\n",
              "      <td>1</td>\n",
              "      <td>0</td>\n",
              "      <td>1</td>\n",
              "      <td>0</td>\n",
              "      <td>1</td>\n",
              "      <td>0</td>\n",
              "      <td>0</td>\n",
              "      <td>1</td>\n",
              "      <td>0</td>\n",
              "      <td>0</td>\n",
              "      <td>1</td>\n",
              "      <td>0</td>\n",
              "      <td>0</td>\n",
              "      <td>0</td>\n",
              "      <td>1</td>\n",
              "    </tr>\n",
              "    <tr>\n",
              "      <th>4</th>\n",
              "      <td>1</td>\n",
              "      <td>0</td>\n",
              "      <td>1</td>\n",
              "      <td>0</td>\n",
              "      <td>1</td>\n",
              "      <td>0</td>\n",
              "      <td>0</td>\n",
              "      <td>1</td>\n",
              "      <td>0</td>\n",
              "      <td>0</td>\n",
              "      <td>0</td>\n",
              "      <td>0</td>\n",
              "      <td>1</td>\n",
              "      <td>0</td>\n",
              "      <td>1</td>\n",
              "    </tr>\n",
              "    <tr>\n",
              "      <th>...</th>\n",
              "      <td>...</td>\n",
              "      <td>...</td>\n",
              "      <td>...</td>\n",
              "      <td>...</td>\n",
              "      <td>...</td>\n",
              "      <td>...</td>\n",
              "      <td>...</td>\n",
              "      <td>...</td>\n",
              "      <td>...</td>\n",
              "      <td>...</td>\n",
              "      <td>...</td>\n",
              "      <td>...</td>\n",
              "      <td>...</td>\n",
              "      <td>...</td>\n",
              "      <td>...</td>\n",
              "    </tr>\n",
              "    <tr>\n",
              "      <th>10343</th>\n",
              "      <td>1</td>\n",
              "      <td>0</td>\n",
              "      <td>1</td>\n",
              "      <td>0</td>\n",
              "      <td>1</td>\n",
              "      <td>0</td>\n",
              "      <td>0</td>\n",
              "      <td>1</td>\n",
              "      <td>0</td>\n",
              "      <td>0</td>\n",
              "      <td>1</td>\n",
              "      <td>0</td>\n",
              "      <td>0</td>\n",
              "      <td>0</td>\n",
              "      <td>1</td>\n",
              "    </tr>\n",
              "    <tr>\n",
              "      <th>10344</th>\n",
              "      <td>1</td>\n",
              "      <td>0</td>\n",
              "      <td>1</td>\n",
              "      <td>0</td>\n",
              "      <td>1</td>\n",
              "      <td>0</td>\n",
              "      <td>0</td>\n",
              "      <td>1</td>\n",
              "      <td>0</td>\n",
              "      <td>0</td>\n",
              "      <td>1</td>\n",
              "      <td>0</td>\n",
              "      <td>0</td>\n",
              "      <td>0</td>\n",
              "      <td>1</td>\n",
              "    </tr>\n",
              "    <tr>\n",
              "      <th>10345</th>\n",
              "      <td>1</td>\n",
              "      <td>0</td>\n",
              "      <td>0</td>\n",
              "      <td>1</td>\n",
              "      <td>1</td>\n",
              "      <td>0</td>\n",
              "      <td>0</td>\n",
              "      <td>0</td>\n",
              "      <td>1</td>\n",
              "      <td>0</td>\n",
              "      <td>0</td>\n",
              "      <td>1</td>\n",
              "      <td>0</td>\n",
              "      <td>1</td>\n",
              "      <td>0</td>\n",
              "    </tr>\n",
              "    <tr>\n",
              "      <th>10346</th>\n",
              "      <td>1</td>\n",
              "      <td>0</td>\n",
              "      <td>1</td>\n",
              "      <td>0</td>\n",
              "      <td>1</td>\n",
              "      <td>0</td>\n",
              "      <td>0</td>\n",
              "      <td>0</td>\n",
              "      <td>0</td>\n",
              "      <td>1</td>\n",
              "      <td>1</td>\n",
              "      <td>0</td>\n",
              "      <td>0</td>\n",
              "      <td>1</td>\n",
              "      <td>0</td>\n",
              "    </tr>\n",
              "    <tr>\n",
              "      <th>10347</th>\n",
              "      <td>1</td>\n",
              "      <td>1</td>\n",
              "      <td>0</td>\n",
              "      <td>0</td>\n",
              "      <td>1</td>\n",
              "      <td>0</td>\n",
              "      <td>0</td>\n",
              "      <td>0</td>\n",
              "      <td>0</td>\n",
              "      <td>1</td>\n",
              "      <td>0</td>\n",
              "      <td>0</td>\n",
              "      <td>1</td>\n",
              "      <td>1</td>\n",
              "      <td>0</td>\n",
              "    </tr>\n",
              "  </tbody>\n",
              "</table>\n",
              "<p>10348 rows × 15 columns</p>\n",
              "</div>\n",
              "      <button class=\"colab-df-convert\" onclick=\"convertToInteractive('df-5dc2f095-1ecc-4a90-b9cd-4c0910327a1f')\"\n",
              "              title=\"Convert this dataframe to an interactive table.\"\n",
              "              style=\"display:none;\">\n",
              "        \n",
              "  <svg xmlns=\"http://www.w3.org/2000/svg\" height=\"24px\"viewBox=\"0 0 24 24\"\n",
              "       width=\"24px\">\n",
              "    <path d=\"M0 0h24v24H0V0z\" fill=\"none\"/>\n",
              "    <path d=\"M18.56 5.44l.94 2.06.94-2.06 2.06-.94-2.06-.94-.94-2.06-.94 2.06-2.06.94zm-11 1L8.5 8.5l.94-2.06 2.06-.94-2.06-.94L8.5 2.5l-.94 2.06-2.06.94zm10 10l.94 2.06.94-2.06 2.06-.94-2.06-.94-.94-2.06-.94 2.06-2.06.94z\"/><path d=\"M17.41 7.96l-1.37-1.37c-.4-.4-.92-.59-1.43-.59-.52 0-1.04.2-1.43.59L10.3 9.45l-7.72 7.72c-.78.78-.78 2.05 0 2.83L4 21.41c.39.39.9.59 1.41.59.51 0 1.02-.2 1.41-.59l7.78-7.78 2.81-2.81c.8-.78.8-2.07 0-2.86zM5.41 20L4 18.59l7.72-7.72 1.47 1.35L5.41 20z\"/>\n",
              "  </svg>\n",
              "      </button>\n",
              "      \n",
              "  <style>\n",
              "    .colab-df-container {\n",
              "      display:flex;\n",
              "      flex-wrap:wrap;\n",
              "      gap: 12px;\n",
              "    }\n",
              "\n",
              "    .colab-df-convert {\n",
              "      background-color: #E8F0FE;\n",
              "      border: none;\n",
              "      border-radius: 50%;\n",
              "      cursor: pointer;\n",
              "      display: none;\n",
              "      fill: #1967D2;\n",
              "      height: 32px;\n",
              "      padding: 0 0 0 0;\n",
              "      width: 32px;\n",
              "    }\n",
              "\n",
              "    .colab-df-convert:hover {\n",
              "      background-color: #E2EBFA;\n",
              "      box-shadow: 0px 1px 2px rgba(60, 64, 67, 0.3), 0px 1px 3px 1px rgba(60, 64, 67, 0.15);\n",
              "      fill: #174EA6;\n",
              "    }\n",
              "\n",
              "    [theme=dark] .colab-df-convert {\n",
              "      background-color: #3B4455;\n",
              "      fill: #D2E3FC;\n",
              "    }\n",
              "\n",
              "    [theme=dark] .colab-df-convert:hover {\n",
              "      background-color: #434B5C;\n",
              "      box-shadow: 0px 1px 3px 1px rgba(0, 0, 0, 0.15);\n",
              "      filter: drop-shadow(0px 1px 2px rgba(0, 0, 0, 0.3));\n",
              "      fill: #FFFFFF;\n",
              "    }\n",
              "  </style>\n",
              "\n",
              "      <script>\n",
              "        const buttonEl =\n",
              "          document.querySelector('#df-5dc2f095-1ecc-4a90-b9cd-4c0910327a1f button.colab-df-convert');\n",
              "        buttonEl.style.display =\n",
              "          google.colab.kernel.accessAllowed ? 'block' : 'none';\n",
              "\n",
              "        async function convertToInteractive(key) {\n",
              "          const element = document.querySelector('#df-5dc2f095-1ecc-4a90-b9cd-4c0910327a1f');\n",
              "          const dataTable =\n",
              "            await google.colab.kernel.invokeFunction('convertToInteractive',\n",
              "                                                     [key], {});\n",
              "          if (!dataTable) return;\n",
              "\n",
              "          const docLinkHtml = 'Like what you see? Visit the ' +\n",
              "            '<a target=\"_blank\" href=https://colab.research.google.com/notebooks/data_table.ipynb>data table notebook</a>'\n",
              "            + ' to learn more about interactive tables.';\n",
              "          element.innerHTML = '';\n",
              "          dataTable['output_type'] = 'display_data';\n",
              "          await google.colab.output.renderOutput(dataTable, element);\n",
              "          const docLink = document.createElement('div');\n",
              "          docLink.innerHTML = docLinkHtml;\n",
              "          element.appendChild(docLink);\n",
              "        }\n",
              "      </script>\n",
              "    </div>\n",
              "  </div>\n",
              "  "
            ]
          },
          "metadata": {},
          "execution_count": 14
        }
      ]
    },
    {
      "cell_type": "code",
      "source": [
        "import seaborn as sns\n",
        "import matplotlib.pyplot as plt"
      ],
      "metadata": {
        "id": "Fo4nM3ibk4FO"
      },
      "execution_count": null,
      "outputs": []
    },
    {
      "cell_type": "code",
      "source": [
        "Churn_frequency = df_balanced.Churn.value_counts(normalize=True)*100\n",
        "print(Churn_frequency)\n",
        "\n",
        "fig1 = sns.barplot(x=Churn_frequency.index, y=Churn_frequency.values)\n",
        "fig1.set_ylabel('(%)')\n",
        "fig1.set_xlabel('Churn')\n",
        "fig1.set_title('Churn Frequency')\n",
        "fig1.axes.get_yaxis().set_visible(False)\n",
        "\n",
        "percentage = [Churn_frequency[0], Churn_frequency[1]]\n",
        "patches = fig1.patches\n",
        "for bar in range(len(patches)):\n",
        "  x = patches[bar].get_x() + patches[bar].get_width()/2\n",
        "  y = patches[bar].get_height() + .05\n",
        "  fig1.annotate('{:.1f}%'.format(percentage[bar]), (x,y), ha='center')"
      ],
      "metadata": {
        "colab": {
          "base_uri": "https://localhost:8080/",
          "height": 347
        },
        "id": "4okAL_3VgoSS",
        "outputId": "26937fd2-7c95-4736-f37d-817380cc9008"
      },
      "execution_count": null,
      "outputs": [
        {
          "output_type": "stream",
          "name": "stdout",
          "text": [
            "0    50.0\n",
            "1    50.0\n",
            "Name: Churn, dtype: float64\n"
          ]
        },
        {
          "output_type": "display_data",
          "data": {
            "text/plain": [
              "<Figure size 432x288 with 1 Axes>"
            ],
            "image/png": "[encoded data removed]"
          },
          "metadata": {
            "needs_background": "light"
          }
        }
      ]
    },
    {
      "cell_type": "markdown",
      "source": [
        "# Machine Learning Models\n",
        "\n",
        "## 1. Linear Regression"
      ],
      "metadata": {
        "id": "75rqftayg-o3"
      }
    },
    {
      "cell_type": "code",
      "source": [
        "x = df_balanced.iloc[:, 1:].values\n",
        "y = df_balanced.iloc[:, 0].values"
      ],
      "metadata": {
        "id": "FvuTXe4eg6mQ"
      },
      "execution_count": null,
      "outputs": []
    },
    {
      "cell_type": "code",
      "source": [
        "from sklearn.model_selection import train_test_split\n",
        "\n",
        "SEED = 42 #garante a replicabilidade\n",
        "\n",
        "x_train, x_test, y_train, y_test = train_test_split(x, y, test_size=0.25, random_state=SEED)"
      ],
      "metadata": {
        "id": "1zty7PRPhTns"
      },
      "execution_count": null,
      "outputs": []
    },
    {
      "cell_type": "code",
      "source": [
        "from sklearn.linear_model import LogisticRegression\n",
        "from sklearn import metrics\n",
        "\n",
        "lr = LogisticRegression(max_iter=1000, random_state=SEED)\n",
        "lr.fit(x_train, y_train)\n",
        "y_pred = lr.predict(x_test)\n",
        "\n",
        "print('Accuracy:',metrics.accuracy_score(y_test, y_pred))\n",
        "print('Precision:',metrics.precision_score(y_test, y_pred))\n",
        "print('Recall:',metrics.recall_score(y_test, y_pred))\n",
        "print('F1:',metrics.f1_score(y_test, y_pred))"
      ],
      "metadata": {
        "colab": {
          "base_uri": "https://localhost:8080/"
        },
        "id": "Z2SUHtpDhV--",
        "outputId": "d59e0be9-c139-4f44-ae22-136ebaa91a43"
      },
      "execution_count": null,
      "outputs": [
        {
          "output_type": "stream",
          "name": "stdout",
          "text": [
            "Accuracy: 0.7444916892153073\n",
            "Precision: 0.7271375464684015\n",
            "Recall: 0.7688679245283019\n",
            "F1: 0.7474207107374857\n"
          ]
        }
      ]
    },
    {
      "cell_type": "code",
      "source": [
        "import matplotlib.pyplot as plt\n",
        "from sklearn.metrics import confusion_matrix\n",
        "from sklearn.datasets import make_classification\n",
        "from sklearn.metrics import ConfusionMatrixDisplay\n",
        "%matplotlib inline\n",
        "\n",
        "cm = confusion_matrix(y_test, y_pred)\n",
        "disp = ConfusionMatrixDisplay(confusion_matrix=cm)\n",
        "disp.plot()"
      ],
      "metadata": {
        "colab": {
          "base_uri": "https://localhost:8080/",
          "height": 296
        },
        "id": "fLVrW2t2hYpO",
        "outputId": "3afb89f5-0534-4672-accb-f75e08d23b24"
      },
      "execution_count": null,
      "outputs": [
        {
          "output_type": "execute_result",
          "data": {
            "text/plain": [
              "<sklearn.metrics._plot.confusion_matrix.ConfusionMatrixDisplay at 0x7fa543b67cd0>"
            ]
          },
          "metadata": {},
          "execution_count": 56
        },
        {
          "output_type": "display_data",
          "data": {
            "text/plain": [
              "<Figure size 432x288 with 2 Axes>"
            ],
            "image/png": "[encoded data removed]"
          },
          "metadata": {
            "needs_background": "light"
          }
        }
      ]
    },
    {
      "cell_type": "code",
      "source": [
        "y_pred_proba = lr.predict_proba(x_test)[::,1]\n",
        "fpr, tpr, _ =  metrics.roc_curve(y_test, y_pred_proba)\n",
        "auc = metrics.roc_auc_score(y_test, y_pred_proba)\n",
        "\n",
        "plt.figure(figsize=(10,6))\n",
        "plt.plot(fpr, tpr, label=\"LR, auc=\"+str(auc))\n",
        "plt.plot([0,1], [0,1], color='red', lw=2, linestyle='--')\n",
        "plt.legend(loc=4)"
      ],
      "metadata": {
        "colab": {
          "base_uri": "https://localhost:8080/",
          "height": 391
        },
        "id": "tmEp4TTAhbbh",
        "outputId": "e44a718c-0e4d-4267-d552-09bfbfcb929c"
      },
      "execution_count": null,
      "outputs": [
        {
          "output_type": "execute_result",
          "data": {
            "text/plain": [
              "<matplotlib.legend.Legend at 0x7fa53eb4dc10>"
            ]
          },
          "metadata": {},
          "execution_count": 57
        },
        {
          "output_type": "display_data",
          "data": {
            "text/plain": [
              "<Figure size 720x432 with 1 Axes>"
            ],
            "image/png": "[encoded data removed]"
          },
          "metadata": {
            "needs_background": "light"
          }
        }
      ]
    },
    {
      "cell_type": "markdown",
      "source": [
        "## 2. Decision Tree"
      ],
      "metadata": {
        "id": "lDnz7MfRlj6O"
      }
    },
    {
      "cell_type": "code",
      "source": [
        "from sklearn.tree import DecisionTreeClassifier\n",
        "\n",
        "dt = DecisionTreeClassifier(max_depth=5, random_state=SEED)\n",
        "model = dt.fit(x_train, y_train)\n",
        "y_pred = dt.predict(x_test)\n",
        "\n",
        "print('Accuracy:',metrics.accuracy_score(y_test, y_pred))\n",
        "print('Precision:',metrics.precision_score(y_test, y_pred))\n",
        "print('Recall:',metrics.recall_score(y_test, y_pred))\n",
        "print('F1:',metrics.f1_score(y_test, y_pred))"
      ],
      "metadata": {
        "colab": {
          "base_uri": "https://localhost:8080/"
        },
        "id": "Jj8XnQgklPF4",
        "outputId": "08dad8bf-29a8-4790-9828-5b2c1a312dc1"
      },
      "execution_count": null,
      "outputs": [
        {
          "output_type": "stream",
          "name": "stdout",
          "text": [
            "Accuracy: 0.7421724004638578\n",
            "Precision: 0.7262528047868362\n",
            "Recall: 0.7633647798742138\n",
            "F1: 0.7443464929091607\n"
          ]
        }
      ]
    },
    {
      "cell_type": "code",
      "source": [
        "cm = confusion_matrix(y_test, y_pred)\n",
        "disp = ConfusionMatrixDisplay(confusion_matrix=cm)\n",
        "disp.plot()"
      ],
      "metadata": {
        "colab": {
          "base_uri": "https://localhost:8080/",
          "height": 296
        },
        "id": "JKM0CSDDltCc",
        "outputId": "39d3759d-5a67-4ba5-ef4b-11469a4df43d"
      },
      "execution_count": null,
      "outputs": [
        {
          "output_type": "execute_result",
          "data": {
            "text/plain": [
              "<sklearn.metrics._plot.confusion_matrix.ConfusionMatrixDisplay at 0x7fa53ed1cfd0>"
            ]
          },
          "metadata": {},
          "execution_count": 59
        },
        {
          "output_type": "display_data",
          "data": {
            "text/plain": [
              "<Figure size 432x288 with 2 Axes>"
            ],
            "image/png": "[encoded data removed]"
          },
          "metadata": {
            "needs_background": "light"
          }
        }
      ]
    },
    {
      "cell_type": "code",
      "source": [
        "y_pred_proba = dt.predict_proba(x_test)[::,1]\n",
        "fpr, tpr, _ =  metrics.roc_curve(y_test, y_pred_proba)\n",
        "auc = metrics.roc_auc_score(y_test, y_pred_proba)\n",
        "\n",
        "plt.figure(figsize=(10,6))\n",
        "plt.plot(fpr, tpr, label=\"data 1, auc=\"+str(auc))\n",
        "plt.plot([0,1], [0,1], color='red', lw=2, linestyle='--')\n",
        "plt.legend(loc=4)"
      ],
      "metadata": {
        "colab": {
          "base_uri": "https://localhost:8080/",
          "height": 391
        },
        "id": "fjqY7zoIlxQ7",
        "outputId": "ef50bcf2-5f79-4bb6-db99-ec31093d99bb"
      },
      "execution_count": null,
      "outputs": [
        {
          "output_type": "execute_result",
          "data": {
            "text/plain": [
              "<matplotlib.legend.Legend at 0x7fa53e9e4b90>"
            ]
          },
          "metadata": {},
          "execution_count": 60
        },
        {
          "output_type": "display_data",
          "data": {
            "text/plain": [
              "<Figure size 720x432 with 1 Axes>"
            ],
            "image/png": "[encoded data removed]"
          },
          "metadata": {
            "needs_background": "light"
          }
        }
      ]
    },
    {
      "cell_type": "markdown",
      "source": [
        "## 3. Random Forest"
      ],
      "metadata": {
        "id": "3ZqeCm8lmGeZ"
      }
    },
    {
      "cell_type": "code",
      "source": [
        "from sklearn.ensemble import RandomForestClassifier\n",
        "\n",
        "rf = RandomForestClassifier(max_depth=5, random_state=SEED)\n",
        "model = rf.fit(x_train, y_train)\n",
        "y_pred = rf.predict(x_test)\n",
        "\n",
        "print('Accuracy:',metrics.accuracy_score(y_test, y_pred))\n",
        "print('Precision:',metrics.precision_score(y_test, y_pred))\n",
        "print('Recall:',metrics.recall_score(y_test, y_pred))\n",
        "print('F1:',metrics.f1_score(y_test, y_pred))"
      ],
      "metadata": {
        "colab": {
          "base_uri": "https://localhost:8080/"
        },
        "id": "gHn1Z7xZl_Ia",
        "outputId": "29342f85-6bc2-4a84-a9d8-d87664c1715f"
      },
      "execution_count": null,
      "outputs": [
        {
          "output_type": "stream",
          "name": "stdout",
          "text": [
            "Accuracy: 0.7452647854657904\n",
            "Precision: 0.7334348819497334\n",
            "Recall: 0.7570754716981132\n",
            "F1: 0.7450676982591875\n"
          ]
        }
      ]
    },
    {
      "cell_type": "code",
      "source": [
        "cm = confusion_matrix(y_test, y_pred)\n",
        "disp = ConfusionMatrixDisplay(confusion_matrix=cm)\n",
        "disp.plot()"
      ],
      "metadata": {
        "colab": {
          "base_uri": "https://localhost:8080/",
          "height": 296
        },
        "id": "aKf9ebxPmKSz",
        "outputId": "c21d77c5-0d66-4ed1-dd1d-3b0fdecf560e"
      },
      "execution_count": null,
      "outputs": [
        {
          "output_type": "execute_result",
          "data": {
            "text/plain": [
              "<sklearn.metrics._plot.confusion_matrix.ConfusionMatrixDisplay at 0x7fa53eea52d0>"
            ]
          },
          "metadata": {},
          "execution_count": 62
        },
        {
          "output_type": "display_data",
          "data": {
            "text/plain": [
              "<Figure size 432x288 with 2 Axes>"
            ],
            "image/png": "[encoded data removed]"
          },
          "metadata": {
            "needs_background": "light"
          }
        }
      ]
    },
    {
      "cell_type": "code",
      "source": [
        "y_pred_proba = rf.predict_proba(x_test)[::,1]\n",
        "fpr, tpr, _ =  metrics.roc_curve(y_test, y_pred_proba)\n",
        "auc = metrics.roc_auc_score(y_test, y_pred_proba)\n",
        "\n",
        "plt.figure(figsize=(10,6))\n",
        "plt.plot(fpr, tpr, label=\"data 1, auc=\"+str(auc))\n",
        "plt.plot([0,1], [0,1], color='red', lw=2, linestyle='--')\n",
        "plt.legend(loc=4)"
      ],
      "metadata": {
        "colab": {
          "base_uri": "https://localhost:8080/",
          "height": 391
        },
        "id": "JuEiy8OVmMXe",
        "outputId": "da9dc7b0-53c0-4de3-ab85-407c1b5b6f06"
      },
      "execution_count": null,
      "outputs": [
        {
          "output_type": "execute_result",
          "data": {
            "text/plain": [
              "<matplotlib.legend.Legend at 0x7fa53f08f110>"
            ]
          },
          "metadata": {},
          "execution_count": 63
        },
        {
          "output_type": "display_data",
          "data": {
            "text/plain": [
              "<Figure size 720x432 with 1 Axes>"
            ],
            "image/png": "[encoded data removed]"
          },
          "metadata": {
            "needs_background": "light"
          }
        }
      ]
    },
    {
      "cell_type": "markdown",
      "source": [
        "### Metrics analysis "
      ],
      "metadata": {
        "id": "Go5yi_uPmY43"
      }
    },
    {
      "cell_type": "code",
      "source": [
        "classifiers = [\n",
        "  LogisticRegression(max_iter=10, random_state=SEED),\n",
        "  DecisionTreeClassifier(max_depth=5, random_state=SEED),\n",
        "  RandomForestClassifier(max_depth=5, random_state=SEED)\n",
        "]"
      ],
      "metadata": {
        "id": "6wGNFYLQmRRR"
      },
      "execution_count": null,
      "outputs": []
    },
    {
      "cell_type": "code",
      "source": [
        "for clf in classifiers:\n",
        "  clf.fit(x_train, y_train)\n",
        "  name = clf.__class__.__name__\n",
        "  print(\"=\"*30)\n",
        "  print(name)\n",
        "  print('****Resultados****')\n",
        "  y_pred = clf.predict(x_test)\n",
        "  print('Accuracy:',metrics.accuracy_score(y_test, y_pred))\n",
        "  print('Precision:',metrics.precision_score(y_test, y_pred))\n",
        "  print('Recall:',metrics.recall_score(y_test, y_pred))\n",
        "  print('F1:',metrics.f1_score(y_test, y_pred))\n",
        "\n",
        "  cm = confusion_matrix(y_test, y_pred)\n",
        "  disp = ConfusionMatrixDisplay(confusion_matrix=cm)\n",
        "  disp.plot()"
      ],
      "metadata": {
        "colab": {
          "base_uri": "https://localhost:8080/",
          "height": 1000
        },
        "id": "H4tlmO7zmcmn",
        "outputId": "ffdea0b1-652c-4f01-c5e5-10dee456d289"
      },
      "execution_count": null,
      "outputs": [
        {
          "output_type": "stream",
          "name": "stderr",
          "text": [
            "/usr/local/lib/python3.7/dist-packages/sklearn/linear_model/_logistic.py:818: ConvergenceWarning: lbfgs failed to converge (status=1):\n",
            "STOP: TOTAL NO. of ITERATIONS REACHED LIMIT.\n",
            "\n",
            "Increase the number of iterations (max_iter) or scale the data as shown in:\n",
            "    https://scikit-learn.org/stable/modules/preprocessing.html\n",
            "Please also refer to the documentation for alternative solver options:\n",
            "    https://scikit-learn.org/stable/modules/linear_model.html#logistic-regression\n",
            "  extra_warning_msg=_LOGISTIC_SOLVER_CONVERGENCE_MSG,\n"
          ]
        },
        {
          "output_type": "stream",
          "name": "stdout",
          "text": [
            "==============================\n",
            "LogisticRegression\n",
            "****Resultados****\n",
            "Accuracy: 0.7433320448395825\n",
            "Precision: 0.7265275707898659\n",
            "Recall: 0.7665094339622641\n",
            "F1: 0.7459831675592962\n",
            "==============================\n",
            "DecisionTreeClassifier\n",
            "****Resultados****\n",
            "Accuracy: 0.7421724004638578\n",
            "Precision: 0.7262528047868362\n",
            "Recall: 0.7633647798742138\n",
            "F1: 0.7443464929091607\n",
            "==============================\n",
            "RandomForestClassifier\n",
            "****Resultados****\n",
            "Accuracy: 0.7452647854657904\n",
            "Precision: 0.7334348819497334\n",
            "Recall: 0.7570754716981132\n",
            "F1: 0.7450676982591875\n"
          ]
        },
        {
          "output_type": "display_data",
          "data": {
            "text/plain": [
              "<Figure size 432x288 with 2 Axes>"
            ],
            "image/png": "[encoded data removed]"
          },
          "metadata": {
            "needs_background": "light"
          }
        },
        {
          "output_type": "display_data",
          "data": {
            "text/plain": [
              "<Figure size 432x288 with 2 Axes>"
            ],
            "image/png": "[encoded data removed]"
          },
          "metadata": {
            "needs_background": "light"
          }
        },
        {
          "output_type": "display_data",
          "data": {
            "text/plain": [
              "<Figure size 432x288 with 2 Axes>"
            ],
            "image/png": "[encoded data removed]"
          },
          "metadata": {
            "needs_background": "light"
          }
        }
      ]
    },
    {
      "cell_type": "markdown",
      "source": [
        "# Improoving model **RandomForestClassifier** with **RandomizedSearchCV**"
      ],
      "metadata": {
        "id": "ZOb_36Nqmm8y"
      }
    },
    {
      "cell_type": "code",
      "source": [
        "n_estimators = np.arange(20, 200, step=20)\n",
        "criterion = ['gini','entropy']\n",
        "max_features = ['auto','sqrt','log2']\n",
        "max_depth = list(np.arange(2,10, step=1))\n",
        "min_samples_split = np.arange(2,10, step=2)\n",
        "min_samples_leaf = [1, 2, 4]\n",
        "bootstrap = [True, False]"
      ],
      "metadata": {
        "id": "qWBD3SOtme7d"
      },
      "execution_count": null,
      "outputs": []
    },
    {
      "cell_type": "code",
      "source": [
        "param_grid = {\n",
        "    'n_estimators':n_estimators,\n",
        "    'criterion':criterion,\n",
        "    'max_features':max_features,\n",
        "    'max_depth':max_depth,\n",
        "    'min_samples_split':min_samples_split,\n",
        "    'min_samples_leaf':min_samples_leaf,\n",
        "    'bootstrap':bootstrap\n",
        "}"
      ],
      "metadata": {
        "id": "bIIoppZsmqhj"
      },
      "execution_count": null,
      "outputs": []
    },
    {
      "cell_type": "code",
      "source": [
        "from sklearn.model_selection import RandomizedSearchCV\n",
        "\n",
        "SEED = 70\n",
        "\n",
        "rforest = RandomForestClassifier(random_state=SEED)"
      ],
      "metadata": {
        "id": "KoxMnZIVmse4"
      },
      "execution_count": null,
      "outputs": []
    },
    {
      "cell_type": "code",
      "source": [
        "random_cv = RandomizedSearchCV(\n",
        "    rforest, param_grid, n_iter=5, cv=3, scoring='recall', n_jobs=-1, random_state=SEED \n",
        ")"
      ],
      "metadata": {
        "id": "sKauQ1eimuZm"
      },
      "execution_count": null,
      "outputs": []
    },
    {
      "cell_type": "code",
      "source": [
        "%%time\n",
        "rcv = random_cv.fit(x,y)"
      ],
      "metadata": {
        "colab": {
          "base_uri": "https://localhost:8080/"
        },
        "id": "U5LbUrtJmwEJ",
        "outputId": "16d2e337-ccc4-4502-f82d-1be160d117ca"
      },
      "execution_count": null,
      "outputs": [
        {
          "output_type": "stream",
          "name": "stdout",
          "text": [
            "CPU times: user 390 ms, sys: 31.6 ms, total: 421 ms\n",
            "Wall time: 4.66 s\n"
          ]
        }
      ]
    },
    {
      "cell_type": "code",
      "source": [
        "pd.DataFrame(rcv.cv_results_)"
      ],
      "metadata": {
        "colab": {
          "base_uri": "https://localhost:8080/",
          "height": 513
        },
        "id": "qyE2g1cDmx4P",
        "outputId": "26a14d4c-91e4-40cb-ba11-dc57b23f92db"
      },
      "execution_count": null,
      "outputs": [
        {
          "output_type": "execute_result",
          "data": {
            "text/plain": [
              "   mean_fit_time  std_fit_time  mean_score_time  std_score_time  \\\n",
              "0       0.534206      0.010107         0.080804        0.001479   \n",
              "1       0.363737      0.009272         0.061166        0.001924   \n",
              "2       0.174442      0.004380         0.028205        0.000323   \n",
              "3       0.452985      0.011043         0.067409        0.003909   \n",
              "4       0.474954      0.002410         0.076483        0.018680   \n",
              "\n",
              "  param_n_estimators param_min_samples_split param_min_samples_leaf  \\\n",
              "0                120                       4                      2   \n",
              "1                120                       4                      2   \n",
              "2                 40                       8                      1   \n",
              "3                100                       8                      4   \n",
              "4                160                       6                      2   \n",
              "\n",
              "  param_max_features param_max_depth param_criterion param_bootstrap  \\\n",
              "0               auto               9            gini           False   \n",
              "1               auto               2            gini           False   \n",
              "2               sqrt               7         entropy           False   \n",
              "3               log2               9         entropy            True   \n",
              "4               log2               2            gini           False   \n",
              "\n",
              "                                              params  split0_test_score  \\\n",
              "0  {'n_estimators': 120, 'min_samples_split': 4, ...           0.791304   \n",
              "1  {'n_estimators': 120, 'min_samples_split': 4, ...           0.813913   \n",
              "2  {'n_estimators': 40, 'min_samples_split': 8, '...           0.791304   \n",
              "3  {'n_estimators': 100, 'min_samples_split': 8, ...           0.765797   \n",
              "4  {'n_estimators': 160, 'min_samples_split': 6, ...           0.813913   \n",
              "\n",
              "   split1_test_score  split2_test_score  mean_test_score  std_test_score  \\\n",
              "0           0.763921           0.768116         0.774447        0.012042   \n",
              "1           0.831206           0.813913         0.819678        0.008152   \n",
              "2           0.765661           0.769275         0.775414        0.011333   \n",
              "3           0.793503           0.761739         0.773680        0.014115   \n",
              "4           0.831206           0.813913         0.819678        0.008152   \n",
              "\n",
              "   rank_test_score  \n",
              "0                4  \n",
              "1                1  \n",
              "2                3  \n",
              "3                5  \n",
              "4                1  "
            ],
            "text/html": [
              "\n",
              "  <div id=\"df-3b88c5e9-fa73-492e-bffe-a799441f6d14\">\n",
              "    <div class=\"colab-df-container\">\n",
              "      <div>\n",
              "<style scoped>\n",
              "    .dataframe tbody tr th:only-of-type {\n",
              "        vertical-align: middle;\n",
              "    }\n",
              "\n",
              "    .dataframe tbody tr th {\n",
              "        vertical-align: top;\n",
              "    }\n",
              "\n",
              "    .dataframe thead th {\n",
              "        text-align: right;\n",
              "    }\n",
              "</style>\n",
              "<table border=\"1\" class=\"dataframe\">\n",
              "  <thead>\n",
              "    <tr style=\"text-align: right;\">\n",
              "      <th></th>\n",
              "      <th>mean_fit_time</th>\n",
              "      <th>std_fit_time</th>\n",
              "      <th>mean_score_time</th>\n",
              "      <th>std_score_time</th>\n",
              "      <th>param_n_estimators</th>\n",
              "      <th>param_min_samples_split</th>\n",
              "      <th>param_min_samples_leaf</th>\n",
              "      <th>param_max_features</th>\n",
              "      <th>param_max_depth</th>\n",
              "      <th>param_criterion</th>\n",
              "      <th>param_bootstrap</th>\n",
              "      <th>params</th>\n",
              "      <th>split0_test_score</th>\n",
              "      <th>split1_test_score</th>\n",
              "      <th>split2_test_score</th>\n",
              "      <th>mean_test_score</th>\n",
              "      <th>std_test_score</th>\n",
              "      <th>rank_test_score</th>\n",
              "    </tr>\n",
              "  </thead>\n",
              "  <tbody>\n",
              "    <tr>\n",
              "      <th>0</th>\n",
              "      <td>0.534206</td>\n",
              "      <td>0.010107</td>\n",
              "      <td>0.080804</td>\n",
              "      <td>0.001479</td>\n",
              "      <td>120</td>\n",
              "      <td>4</td>\n",
              "      <td>2</td>\n",
              "      <td>auto</td>\n",
              "      <td>9</td>\n",
              "      <td>gini</td>\n",
              "      <td>False</td>\n",
              "      <td>{'n_estimators': 120, 'min_samples_split': 4, ...</td>\n",
              "      <td>0.791304</td>\n",
              "      <td>0.763921</td>\n",
              "      <td>0.768116</td>\n",
              "      <td>0.774447</td>\n",
              "      <td>0.012042</td>\n",
              "      <td>4</td>\n",
              "    </tr>\n",
              "    <tr>\n",
              "      <th>1</th>\n",
              "      <td>0.363737</td>\n",
              "      <td>0.009272</td>\n",
              "      <td>0.061166</td>\n",
              "      <td>0.001924</td>\n",
              "      <td>120</td>\n",
              "      <td>4</td>\n",
              "      <td>2</td>\n",
              "      <td>auto</td>\n",
              "      <td>2</td>\n",
              "      <td>gini</td>\n",
              "      <td>False</td>\n",
              "      <td>{'n_estimators': 120, 'min_samples_split': 4, ...</td>\n",
              "      <td>0.813913</td>\n",
              "      <td>0.831206</td>\n",
              "      <td>0.813913</td>\n",
              "      <td>0.819678</td>\n",
              "      <td>0.008152</td>\n",
              "      <td>1</td>\n",
              "    </tr>\n",
              "    <tr>\n",
              "      <th>2</th>\n",
              "      <td>0.174442</td>\n",
              "      <td>0.004380</td>\n",
              "      <td>0.028205</td>\n",
              "      <td>0.000323</td>\n",
              "      <td>40</td>\n",
              "      <td>8</td>\n",
              "      <td>1</td>\n",
              "      <td>sqrt</td>\n",
              "      <td>7</td>\n",
              "      <td>entropy</td>\n",
              "      <td>False</td>\n",
              "      <td>{'n_estimators': 40, 'min_samples_split': 8, '...</td>\n",
              "      <td>0.791304</td>\n",
              "      <td>0.765661</td>\n",
              "      <td>0.769275</td>\n",
              "      <td>0.775414</td>\n",
              "      <td>0.011333</td>\n",
              "      <td>3</td>\n",
              "    </tr>\n",
              "    <tr>\n",
              "      <th>3</th>\n",
              "      <td>0.452985</td>\n",
              "      <td>0.011043</td>\n",
              "      <td>0.067409</td>\n",
              "      <td>0.003909</td>\n",
              "      <td>100</td>\n",
              "      <td>8</td>\n",
              "      <td>4</td>\n",
              "      <td>log2</td>\n",
              "      <td>9</td>\n",
              "      <td>entropy</td>\n",
              "      <td>True</td>\n",
              "      <td>{'n_estimators': 100, 'min_samples_split': 8, ...</td>\n",
              "      <td>0.765797</td>\n",
              "      <td>0.793503</td>\n",
              "      <td>0.761739</td>\n",
              "      <td>0.773680</td>\n",
              "      <td>0.014115</td>\n",
              "      <td>5</td>\n",
              "    </tr>\n",
              "    <tr>\n",
              "      <th>4</th>\n",
              "      <td>0.474954</td>\n",
              "      <td>0.002410</td>\n",
              "      <td>0.076483</td>\n",
              "      <td>0.018680</td>\n",
              "      <td>160</td>\n",
              "      <td>6</td>\n",
              "      <td>2</td>\n",
              "      <td>log2</td>\n",
              "      <td>2</td>\n",
              "      <td>gini</td>\n",
              "      <td>False</td>\n",
              "      <td>{'n_estimators': 160, 'min_samples_split': 6, ...</td>\n",
              "      <td>0.813913</td>\n",
              "      <td>0.831206</td>\n",
              "      <td>0.813913</td>\n",
              "      <td>0.819678</td>\n",
              "      <td>0.008152</td>\n",
              "      <td>1</td>\n",
              "    </tr>\n",
              "  </tbody>\n",
              "</table>\n",
              "</div>\n",
              "      <button class=\"colab-df-convert\" onclick=\"convertToInteractive('df-3b88c5e9-fa73-492e-bffe-a799441f6d14')\"\n",
              "              title=\"Convert this dataframe to an interactive table.\"\n",
              "              style=\"display:none;\">\n",
              "        \n",
              "  <svg xmlns=\"http://www.w3.org/2000/svg\" height=\"24px\"viewBox=\"0 0 24 24\"\n",
              "       width=\"24px\">\n",
              "    <path d=\"M0 0h24v24H0V0z\" fill=\"none\"/>\n",
              "    <path d=\"M18.56 5.44l.94 2.06.94-2.06 2.06-.94-2.06-.94-.94-2.06-.94 2.06-2.06.94zm-11 1L8.5 8.5l.94-2.06 2.06-.94-2.06-.94L8.5 2.5l-.94 2.06-2.06.94zm10 10l.94 2.06.94-2.06 2.06-.94-2.06-.94-.94-2.06-.94 2.06-2.06.94z\"/><path d=\"M17.41 7.96l-1.37-1.37c-.4-.4-.92-.59-1.43-.59-.52 0-1.04.2-1.43.59L10.3 9.45l-7.72 7.72c-.78.78-.78 2.05 0 2.83L4 21.41c.39.39.9.59 1.41.59.51 0 1.02-.2 1.41-.59l7.78-7.78 2.81-2.81c.8-.78.8-2.07 0-2.86zM5.41 20L4 18.59l7.72-7.72 1.47 1.35L5.41 20z\"/>\n",
              "  </svg>\n",
              "      </button>\n",
              "      \n",
              "  <style>\n",
              "    .colab-df-container {\n",
              "      display:flex;\n",
              "      flex-wrap:wrap;\n",
              "      gap: 12px;\n",
              "    }\n",
              "\n",
              "    .colab-df-convert {\n",
              "      background-color: #E8F0FE;\n",
              "      border: none;\n",
              "      border-radius: 50%;\n",
              "      cursor: pointer;\n",
              "      display: none;\n",
              "      fill: #1967D2;\n",
              "      height: 32px;\n",
              "      padding: 0 0 0 0;\n",
              "      width: 32px;\n",
              "    }\n",
              "\n",
              "    .colab-df-convert:hover {\n",
              "      background-color: #E2EBFA;\n",
              "      box-shadow: 0px 1px 2px rgba(60, 64, 67, 0.3), 0px 1px 3px 1px rgba(60, 64, 67, 0.15);\n",
              "      fill: #174EA6;\n",
              "    }\n",
              "\n",
              "    [theme=dark] .colab-df-convert {\n",
              "      background-color: #3B4455;\n",
              "      fill: #D2E3FC;\n",
              "    }\n",
              "\n",
              "    [theme=dark] .colab-df-convert:hover {\n",
              "      background-color: #434B5C;\n",
              "      box-shadow: 0px 1px 3px 1px rgba(0, 0, 0, 0.15);\n",
              "      filter: drop-shadow(0px 1px 2px rgba(0, 0, 0, 0.3));\n",
              "      fill: #FFFFFF;\n",
              "    }\n",
              "  </style>\n",
              "\n",
              "      <script>\n",
              "        const buttonEl =\n",
              "          document.querySelector('#df-3b88c5e9-fa73-492e-bffe-a799441f6d14 button.colab-df-convert');\n",
              "        buttonEl.style.display =\n",
              "          google.colab.kernel.accessAllowed ? 'block' : 'none';\n",
              "\n",
              "        async function convertToInteractive(key) {\n",
              "          const element = document.querySelector('#df-3b88c5e9-fa73-492e-bffe-a799441f6d14');\n",
              "          const dataTable =\n",
              "            await google.colab.kernel.invokeFunction('convertToInteractive',\n",
              "                                                     [key], {});\n",
              "          if (!dataTable) return;\n",
              "\n",
              "          const docLinkHtml = 'Like what you see? Visit the ' +\n",
              "            '<a target=\"_blank\" href=https://colab.research.google.com/notebooks/data_table.ipynb>data table notebook</a>'\n",
              "            + ' to learn more about interactive tables.';\n",
              "          element.innerHTML = '';\n",
              "          dataTable['output_type'] = 'display_data';\n",
              "          await google.colab.output.renderOutput(dataTable, element);\n",
              "          const docLink = document.createElement('div');\n",
              "          docLink.innerHTML = docLinkHtml;\n",
              "          element.appendChild(docLink);\n",
              "        }\n",
              "      </script>\n",
              "    </div>\n",
              "  </div>\n",
              "  "
            ]
          },
          "metadata": {},
          "execution_count": 73
        }
      ]
    },
    {
      "cell_type": "code",
      "source": [
        "rcv.best_params_"
      ],
      "metadata": {
        "colab": {
          "base_uri": "https://localhost:8080/"
        },
        "id": "tWywXYyjm0f7",
        "outputId": "38e1c3db-6aa5-43f2-d684-dbedaca4f256"
      },
      "execution_count": null,
      "outputs": [
        {
          "output_type": "execute_result",
          "data": {
            "text/plain": [
              "{'bootstrap': False,\n",
              " 'criterion': 'gini',\n",
              " 'max_depth': 2,\n",
              " 'max_features': 'auto',\n",
              " 'min_samples_leaf': 2,\n",
              " 'min_samples_split': 4,\n",
              " 'n_estimators': 120}"
            ]
          },
          "metadata": {},
          "execution_count": 74
        }
      ]
    },
    {
      "cell_type": "markdown",
      "source": [
        "## Final Results"
      ],
      "metadata": {
        "id": "dIraYVfxm9Df"
      }
    },
    {
      "cell_type": "code",
      "source": [
        "rfn = RandomForestClassifier(**rcv.best_params_, random_state=SEED)\n",
        "model = rfn.fit(x_train, y_train)\n",
        "y_pred = rfn.predict(x_test)\n",
        "\n",
        "print('Accuracy:',metrics.accuracy_score(y_test, y_pred))\n",
        "print('Precision:',metrics.precision_score(y_test, y_pred))\n",
        "print('Recall:',metrics.recall_score(y_test, y_pred))\n",
        "print('F1:',metrics.f1_score(y_test, y_pred))"
      ],
      "metadata": {
        "colab": {
          "base_uri": "https://localhost:8080/"
        },
        "id": "0aAYXu5Ym2vS",
        "outputId": "47b4e13f-ee3c-4635-83e4-b6a7d84a8913"
      },
      "execution_count": null,
      "outputs": [
        {
          "output_type": "stream",
          "name": "stdout",
          "text": [
            "Accuracy: 0.7386934673366834\n",
            "Precision: 0.7122507122507122\n",
            "Recall: 0.7861635220125787\n",
            "F1: 0.7473841554559043\n"
          ]
        }
      ]
    },
    {
      "cell_type": "code",
      "source": [
        "cm = confusion_matrix(y_test, y_pred)\n",
        "disp = ConfusionMatrixDisplay(confusion_matrix=cm)\n",
        "disp.plot()"
      ],
      "metadata": {
        "colab": {
          "base_uri": "https://localhost:8080/",
          "height": 300
        },
        "id": "P_HBE_uhnAyi",
        "outputId": "ee02ae39-9278-4a5f-91da-39071943a62d"
      },
      "execution_count": null,
      "outputs": [
        {
          "output_type": "execute_result",
          "data": {
            "text/plain": [
              "<sklearn.metrics._plot.confusion_matrix.ConfusionMatrixDisplay at 0x7fa53fd31d90>"
            ]
          },
          "metadata": {},
          "execution_count": 76
        },
        {
          "output_type": "display_data",
          "data": {
            "text/plain": [
              "<Figure size 432x288 with 2 Axes>"
            ],
            "image/png": "[encoded data removed]"
          },
          "metadata": {
            "needs_background": "light"
          }
        }
      ]
    },
    {
      "cell_type": "markdown",
      "source": [
        "# Improoving model **Decision Tree Classifier** with **RandomizedSearchCV**"
      ],
      "metadata": {
        "id": "OP6_g4sPhXOR"
      }
    },
    {
      "cell_type": "code",
      "source": [
        "criterion = ['gini','entropy']\n",
        "max_features = ['auto','sqrt','log2']\n",
        "max_depth = list(np.arange(2,10, step=1))\n",
        "min_samples_split = np.arange(2,10, step=2)\n",
        "min_samples_leaf = [1, 2, 4]"
      ],
      "metadata": {
        "id": "U4wXVgc-hiVo"
      },
      "execution_count": null,
      "outputs": []
    },
    {
      "cell_type": "code",
      "source": [
        "param_grid = {\n",
        "    'criterion':criterion,\n",
        "    'max_features':max_features,\n",
        "    'max_depth':max_depth,\n",
        "    'min_samples_split':min_samples_split,\n",
        "    'min_samples_leaf':min_samples_leaf,\n",
        "}"
      ],
      "metadata": {
        "id": "L-ziAk_EhiHo"
      },
      "execution_count": null,
      "outputs": []
    },
    {
      "cell_type": "code",
      "source": [
        "from sklearn.model_selection import RandomizedSearchCV\n",
        "\n",
        "SEED = 70\n",
        "\n",
        "dt_randomized = DecisionTreeClassifier(random_state=SEED)"
      ],
      "metadata": {
        "id": "TsElA0xnh49i"
      },
      "execution_count": null,
      "outputs": []
    },
    {
      "cell_type": "code",
      "source": [
        "random_cv = RandomizedSearchCV(\n",
        "    dt_randomized, param_grid, n_iter=5, cv=3, scoring='recall', n_jobs=-1, random_state=SEED \n",
        ")"
      ],
      "metadata": {
        "id": "DfKEB2TGh40O"
      },
      "execution_count": null,
      "outputs": []
    },
    {
      "cell_type": "code",
      "source": [
        "%%time\n",
        "rcv = random_cv.fit(x,y)"
      ],
      "metadata": {
        "colab": {
          "base_uri": "https://localhost:8080/"
        },
        "id": "11IjnLfahz-A",
        "outputId": "a33667a7-3fcc-4880-8e26-33f3f9346df1"
      },
      "execution_count": null,
      "outputs": [
        {
          "output_type": "stream",
          "name": "stdout",
          "text": [
            "CPU times: user 65.3 ms, sys: 3.5 ms, total: 68.8 ms\n",
            "Wall time: 179 ms\n"
          ]
        }
      ]
    },
    {
      "cell_type": "code",
      "source": [
        "pd.DataFrame(rcv.cv_results_)"
      ],
      "metadata": {
        "colab": {
          "base_uri": "https://localhost:8080/",
          "height": 531
        },
        "id": "EI0B_LtqiLd9",
        "outputId": "9767021b-0b69-4d92-8131-d9b7a3b21105"
      },
      "execution_count": null,
      "outputs": [
        {
          "output_type": "execute_result",
          "data": {
            "text/plain": [
              "   mean_fit_time  std_fit_time  mean_score_time  std_score_time  \\\n",
              "0       0.004029      0.000126         0.008838        0.003775   \n",
              "1       0.013415      0.003258         0.011587        0.001864   \n",
              "2       0.004223      0.000172         0.004244        0.001259   \n",
              "3       0.004827      0.001784         0.008214        0.003286   \n",
              "4       0.004083      0.000299         0.003660        0.000078   \n",
              "\n",
              "  param_min_samples_split param_min_samples_leaf param_max_features  \\\n",
              "0                       6                      4               auto   \n",
              "1                       6                      4               log2   \n",
              "2                       6                      2               auto   \n",
              "3                       2                      2               log2   \n",
              "4                       8                      4               sqrt   \n",
              "\n",
              "  param_max_depth param_criterion  \\\n",
              "0               3         entropy   \n",
              "1               7            gini   \n",
              "2               5            gini   \n",
              "3               2         entropy   \n",
              "4               3            gini   \n",
              "\n",
              "                                              params  split0_test_score  \\\n",
              "0  {'min_samples_split': 6, 'min_samples_leaf': 4...           0.881739   \n",
              "1  {'min_samples_split': 6, 'min_samples_leaf': 4...           0.795362   \n",
              "2  {'min_samples_split': 6, 'min_samples_leaf': 2...           0.763478   \n",
              "3  {'min_samples_split': 2, 'min_samples_leaf': 2...           0.725217   \n",
              "4  {'min_samples_split': 8, 'min_samples_leaf': 4...           0.881739   \n",
              "\n",
              "   split1_test_score  split2_test_score  mean_test_score  std_test_score  \\\n",
              "0           0.719258           0.715362         0.772120        0.077529   \n",
              "1           0.763341           0.766957         0.775220        0.014319   \n",
              "2           0.774362           0.760580         0.766140        0.005933   \n",
              "3           0.725058           0.655652         0.701976        0.032756   \n",
              "4           0.719258           0.715362         0.772120        0.077529   \n",
              "\n",
              "   rank_test_score  \n",
              "0                2  \n",
              "1                1  \n",
              "2                4  \n",
              "3                5  \n",
              "4                2  "
            ],
            "text/html": [
              "\n",
              "  <div id=\"df-78e0f523-a8e4-4fa5-88c1-fd4bd0a5fba7\">\n",
              "    <div class=\"colab-df-container\">\n",
              "      <div>\n",
              "<style scoped>\n",
              "    .dataframe tbody tr th:only-of-type {\n",
              "        vertical-align: middle;\n",
              "    }\n",
              "\n",
              "    .dataframe tbody tr th {\n",
              "        vertical-align: top;\n",
              "    }\n",
              "\n",
              "    .dataframe thead th {\n",
              "        text-align: right;\n",
              "    }\n",
              "</style>\n",
              "<table border=\"1\" class=\"dataframe\">\n",
              "  <thead>\n",
              "    <tr style=\"text-align: right;\">\n",
              "      <th></th>\n",
              "      <th>mean_fit_time</th>\n",
              "      <th>std_fit_time</th>\n",
              "      <th>mean_score_time</th>\n",
              "      <th>std_score_time</th>\n",
              "      <th>param_min_samples_split</th>\n",
              "      <th>param_min_samples_leaf</th>\n",
              "      <th>param_max_features</th>\n",
              "      <th>param_max_depth</th>\n",
              "      <th>param_criterion</th>\n",
              "      <th>params</th>\n",
              "      <th>split0_test_score</th>\n",
              "      <th>split1_test_score</th>\n",
              "      <th>split2_test_score</th>\n",
              "      <th>mean_test_score</th>\n",
              "      <th>std_test_score</th>\n",
              "      <th>rank_test_score</th>\n",
              "    </tr>\n",
              "  </thead>\n",
              "  <tbody>\n",
              "    <tr>\n",
              "      <th>0</th>\n",
              "      <td>0.004029</td>\n",
              "      <td>0.000126</td>\n",
              "      <td>0.008838</td>\n",
              "      <td>0.003775</td>\n",
              "      <td>6</td>\n",
              "      <td>4</td>\n",
              "      <td>auto</td>\n",
              "      <td>3</td>\n",
              "      <td>entropy</td>\n",
              "      <td>{'min_samples_split': 6, 'min_samples_leaf': 4...</td>\n",
              "      <td>0.881739</td>\n",
              "      <td>0.719258</td>\n",
              "      <td>0.715362</td>\n",
              "      <td>0.772120</td>\n",
              "      <td>0.077529</td>\n",
              "      <td>2</td>\n",
              "    </tr>\n",
              "    <tr>\n",
              "      <th>1</th>\n",
              "      <td>0.013415</td>\n",
              "      <td>0.003258</td>\n",
              "      <td>0.011587</td>\n",
              "      <td>0.001864</td>\n",
              "      <td>6</td>\n",
              "      <td>4</td>\n",
              "      <td>log2</td>\n",
              "      <td>7</td>\n",
              "      <td>gini</td>\n",
              "      <td>{'min_samples_split': 6, 'min_samples_leaf': 4...</td>\n",
              "      <td>0.795362</td>\n",
              "      <td>0.763341</td>\n",
              "      <td>0.766957</td>\n",
              "      <td>0.775220</td>\n",
              "      <td>0.014319</td>\n",
              "      <td>1</td>\n",
              "    </tr>\n",
              "    <tr>\n",
              "      <th>2</th>\n",
              "      <td>0.004223</td>\n",
              "      <td>0.000172</td>\n",
              "      <td>0.004244</td>\n",
              "      <td>0.001259</td>\n",
              "      <td>6</td>\n",
              "      <td>2</td>\n",
              "      <td>auto</td>\n",
              "      <td>5</td>\n",
              "      <td>gini</td>\n",
              "      <td>{'min_samples_split': 6, 'min_samples_leaf': 2...</td>\n",
              "      <td>0.763478</td>\n",
              "      <td>0.774362</td>\n",
              "      <td>0.760580</td>\n",
              "      <td>0.766140</td>\n",
              "      <td>0.005933</td>\n",
              "      <td>4</td>\n",
              "    </tr>\n",
              "    <tr>\n",
              "      <th>3</th>\n",
              "      <td>0.004827</td>\n",
              "      <td>0.001784</td>\n",
              "      <td>0.008214</td>\n",
              "      <td>0.003286</td>\n",
              "      <td>2</td>\n",
              "      <td>2</td>\n",
              "      <td>log2</td>\n",
              "      <td>2</td>\n",
              "      <td>entropy</td>\n",
              "      <td>{'min_samples_split': 2, 'min_samples_leaf': 2...</td>\n",
              "      <td>0.725217</td>\n",
              "      <td>0.725058</td>\n",
              "      <td>0.655652</td>\n",
              "      <td>0.701976</td>\n",
              "      <td>0.032756</td>\n",
              "      <td>5</td>\n",
              "    </tr>\n",
              "    <tr>\n",
              "      <th>4</th>\n",
              "      <td>0.004083</td>\n",
              "      <td>0.000299</td>\n",
              "      <td>0.003660</td>\n",
              "      <td>0.000078</td>\n",
              "      <td>8</td>\n",
              "      <td>4</td>\n",
              "      <td>sqrt</td>\n",
              "      <td>3</td>\n",
              "      <td>gini</td>\n",
              "      <td>{'min_samples_split': 8, 'min_samples_leaf': 4...</td>\n",
              "      <td>0.881739</td>\n",
              "      <td>0.719258</td>\n",
              "      <td>0.715362</td>\n",
              "      <td>0.772120</td>\n",
              "      <td>0.077529</td>\n",
              "      <td>2</td>\n",
              "    </tr>\n",
              "  </tbody>\n",
              "</table>\n",
              "</div>\n",
              "      <button class=\"colab-df-convert\" onclick=\"convertToInteractive('df-78e0f523-a8e4-4fa5-88c1-fd4bd0a5fba7')\"\n",
              "              title=\"Convert this dataframe to an interactive table.\"\n",
              "              style=\"display:none;\">\n",
              "        \n",
              "  <svg xmlns=\"http://www.w3.org/2000/svg\" height=\"24px\"viewBox=\"0 0 24 24\"\n",
              "       width=\"24px\">\n",
              "    <path d=\"M0 0h24v24H0V0z\" fill=\"none\"/>\n",
              "    <path d=\"M18.56 5.44l.94 2.06.94-2.06 2.06-.94-2.06-.94-.94-2.06-.94 2.06-2.06.94zm-11 1L8.5 8.5l.94-2.06 2.06-.94-2.06-.94L8.5 2.5l-.94 2.06-2.06.94zm10 10l.94 2.06.94-2.06 2.06-.94-2.06-.94-.94-2.06-.94 2.06-2.06.94z\"/><path d=\"M17.41 7.96l-1.37-1.37c-.4-.4-.92-.59-1.43-.59-.52 0-1.04.2-1.43.59L10.3 9.45l-7.72 7.72c-.78.78-.78 2.05 0 2.83L4 21.41c.39.39.9.59 1.41.59.51 0 1.02-.2 1.41-.59l7.78-7.78 2.81-2.81c.8-.78.8-2.07 0-2.86zM5.41 20L4 18.59l7.72-7.72 1.47 1.35L5.41 20z\"/>\n",
              "  </svg>\n",
              "      </button>\n",
              "      \n",
              "  <style>\n",
              "    .colab-df-container {\n",
              "      display:flex;\n",
              "      flex-wrap:wrap;\n",
              "      gap: 12px;\n",
              "    }\n",
              "\n",
              "    .colab-df-convert {\n",
              "      background-color: #E8F0FE;\n",
              "      border: none;\n",
              "      border-radius: 50%;\n",
              "      cursor: pointer;\n",
              "      display: none;\n",
              "      fill: #1967D2;\n",
              "      height: 32px;\n",
              "      padding: 0 0 0 0;\n",
              "      width: 32px;\n",
              "    }\n",
              "\n",
              "    .colab-df-convert:hover {\n",
              "      background-color: #E2EBFA;\n",
              "      box-shadow: 0px 1px 2px rgba(60, 64, 67, 0.3), 0px 1px 3px 1px rgba(60, 64, 67, 0.15);\n",
              "      fill: #174EA6;\n",
              "    }\n",
              "\n",
              "    [theme=dark] .colab-df-convert {\n",
              "      background-color: #3B4455;\n",
              "      fill: #D2E3FC;\n",
              "    }\n",
              "\n",
              "    [theme=dark] .colab-df-convert:hover {\n",
              "      background-color: #434B5C;\n",
              "      box-shadow: 0px 1px 3px 1px rgba(0, 0, 0, 0.15);\n",
              "      filter: drop-shadow(0px 1px 2px rgba(0, 0, 0, 0.3));\n",
              "      fill: #FFFFFF;\n",
              "    }\n",
              "  </style>\n",
              "\n",
              "      <script>\n",
              "        const buttonEl =\n",
              "          document.querySelector('#df-78e0f523-a8e4-4fa5-88c1-fd4bd0a5fba7 button.colab-df-convert');\n",
              "        buttonEl.style.display =\n",
              "          google.colab.kernel.accessAllowed ? 'block' : 'none';\n",
              "\n",
              "        async function convertToInteractive(key) {\n",
              "          const element = document.querySelector('#df-78e0f523-a8e4-4fa5-88c1-fd4bd0a5fba7');\n",
              "          const dataTable =\n",
              "            await google.colab.kernel.invokeFunction('convertToInteractive',\n",
              "                                                     [key], {});\n",
              "          if (!dataTable) return;\n",
              "\n",
              "          const docLinkHtml = 'Like what you see? Visit the ' +\n",
              "            '<a target=\"_blank\" href=https://colab.research.google.com/notebooks/data_table.ipynb>data table notebook</a>'\n",
              "            + ' to learn more about interactive tables.';\n",
              "          element.innerHTML = '';\n",
              "          dataTable['output_type'] = 'display_data';\n",
              "          await google.colab.output.renderOutput(dataTable, element);\n",
              "          const docLink = document.createElement('div');\n",
              "          docLink.innerHTML = docLinkHtml;\n",
              "          element.appendChild(docLink);\n",
              "        }\n",
              "      </script>\n",
              "    </div>\n",
              "  </div>\n",
              "  "
            ]
          },
          "metadata": {},
          "execution_count": 83
        }
      ]
    },
    {
      "cell_type": "code",
      "source": [
        "rcv.best_params_"
      ],
      "metadata": {
        "colab": {
          "base_uri": "https://localhost:8080/"
        },
        "id": "DJb8hKIHhAqA",
        "outputId": "acee7734-0d02-4bb0-b467-6ce008fd0582"
      },
      "execution_count": null,
      "outputs": [
        {
          "output_type": "execute_result",
          "data": {
            "text/plain": [
              "{'criterion': 'gini',\n",
              " 'max_depth': 7,\n",
              " 'max_features': 'log2',\n",
              " 'min_samples_leaf': 4,\n",
              " 'min_samples_split': 6}"
            ]
          },
          "metadata": {},
          "execution_count": 84
        }
      ]
    },
    {
      "cell_type": "code",
      "source": [
        "dtn = DecisionTreeClassifier(**rcv.best_params_, random_state=SEED)\n",
        "model = dtn.fit(x_train, y_train)\n",
        "y_pred = dtn.predict(x_test)\n",
        "\n",
        "print('Accuracy:',metrics.accuracy_score(y_test, y_pred))\n",
        "print('Precision:',metrics.precision_score(y_test, y_pred))\n",
        "print('Recall:',metrics.recall_score(y_test, y_pred))\n",
        "print('F1:',metrics.f1_score(y_test, y_pred))"
      ],
      "metadata": {
        "colab": {
          "base_uri": "https://localhost:8080/"
        },
        "id": "cjyB020RiVZ4",
        "outputId": "28331a31-6846-4931-9a13-2a330895cbc4"
      },
      "execution_count": null,
      "outputs": [
        {
          "output_type": "stream",
          "name": "stdout",
          "text": [
            "Accuracy: 0.7441051410900658\n",
            "Precision: 0.7293233082706767\n",
            "Recall: 0.7625786163522013\n",
            "F1: 0.7455803228285933\n"
          ]
        }
      ]
    },
    {
      "cell_type": "code",
      "source": [
        "cm = confusion_matrix(y_test, y_pred)\n",
        "disp = ConfusionMatrixDisplay(confusion_matrix=cm)\n",
        "disp.plot()"
      ],
      "metadata": {
        "colab": {
          "base_uri": "https://localhost:8080/",
          "height": 296
        },
        "id": "DYe2APPCid39",
        "outputId": "9f04ddcd-9bf5-43ab-d1f5-c22e64534724"
      },
      "execution_count": null,
      "outputs": [
        {
          "output_type": "execute_result",
          "data": {
            "text/plain": [
              "<sklearn.metrics._plot.confusion_matrix.ConfusionMatrixDisplay at 0x7fa53e785cd0>"
            ]
          },
          "metadata": {},
          "execution_count": 86
        },
        {
          "output_type": "display_data",
          "data": {
            "text/plain": [
              "<Figure size 432x288 with 2 Axes>"
            ],
            "image/png": "[encoded data removed]"
          },
          "metadata": {
            "needs_background": "light"
          }
        }
      ]
    },
    {
      "cell_type": "code",
      "source": [
        ""
      ],
      "metadata": {
        "id": "AybXdNUpiniB"
      },
      "execution_count": null,
      "outputs": []
    }
  ]
}